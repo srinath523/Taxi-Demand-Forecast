{
 "cells": [
  {
   "cell_type": "code",
   "execution_count": 1,
   "metadata": {
    "collapsed": true
   },
   "outputs": [],
   "source": [
    "# Including Libraries"
   ]
  },
  {
   "cell_type": "code",
   "execution_count": 1,
   "metadata": {
    "collapsed": true
   },
   "outputs": [],
   "source": [
    "import dask.dataframe as dd#similar to pandas\n",
    "import pandas as pd#pandas to create small dataframes \n",
    "import folium#open street map\n",
    "import datetime#Convert to unix time\n",
    "import time#Convert to unix time\n",
    "import numpy as np#Do aritmetic operations on arrays\n",
    "import seaborn as sns#Plots\n",
    "import matplotlib.pylab as plt#Plots\n",
    "import matplotlib  #Plots\n",
    "from matplotlib import rcParams#Size of plots  \n",
    "import gpxpy.geo#Get the haversine distance\n",
    "from sklearn.cluster import MiniBatchKMeans, KMeans#Clustering\n",
    "import math\n",
    "import pickle\n",
    "import os\n",
    "mingw_path = 'C:\\\\Program Files\\\\mingw-w64\\\\x86_64-5.3.0-posix-seh-rt_v4-rev0\\\\mingw64\\\\bin'\n",
    "os.environ['PATH'] = mingw_path + ';' + os.environ['PATH']\n",
    "from sklearn.ensemble import RandomForestRegressor\n",
    "from sklearn.metrics import mean_squared_error\n",
    "from sklearn.metrics import mean_absolute_error\n",
    "import warnings\n",
    "warnings.filterwarnings(\"ignore\")"
   ]
  },
  {
   "cell_type": "markdown",
   "metadata": {},
   "source": [
    "# Reading training data"
   ]
  },
  {
   "cell_type": "code",
   "execution_count": 2,
   "metadata": {},
   "outputs": [
    {
     "name": "stdout",
     "output_type": "stream",
     "text": [
      "Index(['VendorID', 'tpep_pickup_datetime', 'tpep_dropoff_datetime',\n",
      "       'passenger_count', 'trip_distance', 'pickup_longitude',\n",
      "       'pickup_latitude', 'RateCodeID', 'store_and_fwd_flag',\n",
      "       'dropoff_longitude', 'dropoff_latitude', 'payment_type', 'fare_amount',\n",
      "       'extra', 'mta_tax', 'tip_amount', 'tolls_amount',\n",
      "       'improvement_surcharge', 'total_amount'],\n",
      "      dtype='object')\n"
     ]
    }
   ],
   "source": [
    "month = dd.read_csv('yellow_tripdata_2015-01.csv')\n",
    "print(month.columns)"
   ]
  },
  {
   "cell_type": "code",
   "execution_count": 3,
   "metadata": {},
   "outputs": [
    {
     "data": {
      "text/html": [
       "<div>\n",
       "<style scoped>\n",
       "    .dataframe tbody tr th:only-of-type {\n",
       "        vertical-align: middle;\n",
       "    }\n",
       "\n",
       "    .dataframe tbody tr th {\n",
       "        vertical-align: top;\n",
       "    }\n",
       "\n",
       "    .dataframe thead th {\n",
       "        text-align: right;\n",
       "    }\n",
       "</style>\n",
       "<table border=\"1\" class=\"dataframe\">\n",
       "  <thead>\n",
       "    <tr style=\"text-align: right;\">\n",
       "      <th></th>\n",
       "      <th>VendorID</th>\n",
       "      <th>tpep_pickup_datetime</th>\n",
       "      <th>tpep_dropoff_datetime</th>\n",
       "      <th>passenger_count</th>\n",
       "      <th>trip_distance</th>\n",
       "      <th>pickup_longitude</th>\n",
       "      <th>pickup_latitude</th>\n",
       "      <th>RateCodeID</th>\n",
       "      <th>store_and_fwd_flag</th>\n",
       "      <th>dropoff_longitude</th>\n",
       "      <th>dropoff_latitude</th>\n",
       "      <th>payment_type</th>\n",
       "      <th>fare_amount</th>\n",
       "      <th>extra</th>\n",
       "      <th>mta_tax</th>\n",
       "      <th>tip_amount</th>\n",
       "      <th>tolls_amount</th>\n",
       "      <th>improvement_surcharge</th>\n",
       "      <th>total_amount</th>\n",
       "    </tr>\n",
       "  </thead>\n",
       "  <tbody>\n",
       "    <tr>\n",
       "      <th>0</th>\n",
       "      <td>2</td>\n",
       "      <td>2015-01-15 19:05:39</td>\n",
       "      <td>2015-01-15 19:23:42</td>\n",
       "      <td>1</td>\n",
       "      <td>1.59</td>\n",
       "      <td>-73.993896</td>\n",
       "      <td>40.750111</td>\n",
       "      <td>1</td>\n",
       "      <td>N</td>\n",
       "      <td>-73.974785</td>\n",
       "      <td>40.750618</td>\n",
       "      <td>1</td>\n",
       "      <td>12.0</td>\n",
       "      <td>1.0</td>\n",
       "      <td>0.5</td>\n",
       "      <td>3.25</td>\n",
       "      <td>0.0</td>\n",
       "      <td>0.3</td>\n",
       "      <td>17.05</td>\n",
       "    </tr>\n",
       "    <tr>\n",
       "      <th>1</th>\n",
       "      <td>1</td>\n",
       "      <td>2015-01-10 20:33:38</td>\n",
       "      <td>2015-01-10 20:53:28</td>\n",
       "      <td>1</td>\n",
       "      <td>3.30</td>\n",
       "      <td>-74.001648</td>\n",
       "      <td>40.724243</td>\n",
       "      <td>1</td>\n",
       "      <td>N</td>\n",
       "      <td>-73.994415</td>\n",
       "      <td>40.759109</td>\n",
       "      <td>1</td>\n",
       "      <td>14.5</td>\n",
       "      <td>0.5</td>\n",
       "      <td>0.5</td>\n",
       "      <td>2.00</td>\n",
       "      <td>0.0</td>\n",
       "      <td>0.3</td>\n",
       "      <td>17.80</td>\n",
       "    </tr>\n",
       "    <tr>\n",
       "      <th>2</th>\n",
       "      <td>1</td>\n",
       "      <td>2015-01-10 20:33:38</td>\n",
       "      <td>2015-01-10 20:43:41</td>\n",
       "      <td>1</td>\n",
       "      <td>1.80</td>\n",
       "      <td>-73.963341</td>\n",
       "      <td>40.802788</td>\n",
       "      <td>1</td>\n",
       "      <td>N</td>\n",
       "      <td>-73.951820</td>\n",
       "      <td>40.824413</td>\n",
       "      <td>2</td>\n",
       "      <td>9.5</td>\n",
       "      <td>0.5</td>\n",
       "      <td>0.5</td>\n",
       "      <td>0.00</td>\n",
       "      <td>0.0</td>\n",
       "      <td>0.3</td>\n",
       "      <td>10.80</td>\n",
       "    </tr>\n",
       "    <tr>\n",
       "      <th>3</th>\n",
       "      <td>1</td>\n",
       "      <td>2015-01-10 20:33:39</td>\n",
       "      <td>2015-01-10 20:35:31</td>\n",
       "      <td>1</td>\n",
       "      <td>0.50</td>\n",
       "      <td>-74.009087</td>\n",
       "      <td>40.713818</td>\n",
       "      <td>1</td>\n",
       "      <td>N</td>\n",
       "      <td>-74.004326</td>\n",
       "      <td>40.719986</td>\n",
       "      <td>2</td>\n",
       "      <td>3.5</td>\n",
       "      <td>0.5</td>\n",
       "      <td>0.5</td>\n",
       "      <td>0.00</td>\n",
       "      <td>0.0</td>\n",
       "      <td>0.3</td>\n",
       "      <td>4.80</td>\n",
       "    </tr>\n",
       "    <tr>\n",
       "      <th>4</th>\n",
       "      <td>1</td>\n",
       "      <td>2015-01-10 20:33:39</td>\n",
       "      <td>2015-01-10 20:52:58</td>\n",
       "      <td>1</td>\n",
       "      <td>3.00</td>\n",
       "      <td>-73.971176</td>\n",
       "      <td>40.762428</td>\n",
       "      <td>1</td>\n",
       "      <td>N</td>\n",
       "      <td>-74.004181</td>\n",
       "      <td>40.742653</td>\n",
       "      <td>2</td>\n",
       "      <td>15.0</td>\n",
       "      <td>0.5</td>\n",
       "      <td>0.5</td>\n",
       "      <td>0.00</td>\n",
       "      <td>0.0</td>\n",
       "      <td>0.3</td>\n",
       "      <td>16.30</td>\n",
       "    </tr>\n",
       "  </tbody>\n",
       "</table>\n",
       "</div>"
      ],
      "text/plain": [
       "   VendorID tpep_pickup_datetime tpep_dropoff_datetime  passenger_count  \\\n",
       "0         2  2015-01-15 19:05:39   2015-01-15 19:23:42                1   \n",
       "1         1  2015-01-10 20:33:38   2015-01-10 20:53:28                1   \n",
       "2         1  2015-01-10 20:33:38   2015-01-10 20:43:41                1   \n",
       "3         1  2015-01-10 20:33:39   2015-01-10 20:35:31                1   \n",
       "4         1  2015-01-10 20:33:39   2015-01-10 20:52:58                1   \n",
       "\n",
       "   trip_distance  pickup_longitude  pickup_latitude  RateCodeID  \\\n",
       "0           1.59        -73.993896        40.750111           1   \n",
       "1           3.30        -74.001648        40.724243           1   \n",
       "2           1.80        -73.963341        40.802788           1   \n",
       "3           0.50        -74.009087        40.713818           1   \n",
       "4           3.00        -73.971176        40.762428           1   \n",
       "\n",
       "  store_and_fwd_flag  dropoff_longitude  dropoff_latitude  payment_type  \\\n",
       "0                  N         -73.974785         40.750618             1   \n",
       "1                  N         -73.994415         40.759109             1   \n",
       "2                  N         -73.951820         40.824413             2   \n",
       "3                  N         -74.004326         40.719986             2   \n",
       "4                  N         -74.004181         40.742653             2   \n",
       "\n",
       "   fare_amount  extra  mta_tax  tip_amount  tolls_amount  \\\n",
       "0         12.0    1.0      0.5        3.25           0.0   \n",
       "1         14.5    0.5      0.5        2.00           0.0   \n",
       "2          9.5    0.5      0.5        0.00           0.0   \n",
       "3          3.5    0.5      0.5        0.00           0.0   \n",
       "4         15.0    0.5      0.5        0.00           0.0   \n",
       "\n",
       "   improvement_surcharge  total_amount  \n",
       "0                    0.3         17.05  \n",
       "1                    0.3         17.80  \n",
       "2                    0.3         10.80  \n",
       "3                    0.3          4.80  \n",
       "4                    0.3         16.30  "
      ]
     },
     "execution_count": 3,
     "metadata": {},
     "output_type": "execute_result"
    }
   ],
   "source": [
    "month.head(5)"
   ]
  },
  {
   "cell_type": "markdown",
   "metadata": {},
   "source": [
    "# Data Cleaning"
   ]
  },
  {
   "cell_type": "markdown",
   "metadata": {},
   "source": [
    "## 1. Pickup Latitude and Longitude"
   ]
  },
  {
   "cell_type": "code",
   "execution_count": 3,
   "metadata": {},
   "outputs": [
    {
     "ename": "NameError",
     "evalue": "name 'month' is not defined",
     "output_type": "error",
     "traceback": [
      "\u001b[1;31m\u001b[0m",
      "\u001b[1;31mNameError\u001b[0mTraceback (most recent call last)",
      "\u001b[1;32m<ipython-input-3-fd301719b7f7>\u001b[0m in \u001b[0;36m<module>\u001b[1;34m()\u001b[0m\n\u001b[1;32m----> 1\u001b[1;33m \u001b[0moutlier_locations\u001b[0m \u001b[1;33m=\u001b[0m \u001b[0mmonth\u001b[0m\u001b[1;33m[\u001b[0m\u001b[1;33m(\u001b[0m\u001b[1;33m(\u001b[0m\u001b[0mmonth\u001b[0m\u001b[1;33m.\u001b[0m\u001b[0mpickup_longitude\u001b[0m \u001b[1;33m<=\u001b[0m \u001b[1;33m-\u001b[0m\u001b[1;36m74.15\u001b[0m\u001b[1;33m)\u001b[0m \u001b[1;33m|\u001b[0m \u001b[1;33m(\u001b[0m\u001b[0mmonth\u001b[0m\u001b[1;33m.\u001b[0m\u001b[0mpickup_latitude\u001b[0m \u001b[1;33m<=\u001b[0m \u001b[1;36m40.5774\u001b[0m\u001b[1;33m)\u001b[0m\u001b[1;33m|\u001b[0m                    \u001b[1;33m(\u001b[0m\u001b[0mmonth\u001b[0m\u001b[1;33m.\u001b[0m\u001b[0mpickup_longitude\u001b[0m \u001b[1;33m>=\u001b[0m \u001b[1;33m-\u001b[0m\u001b[1;36m73.7004\u001b[0m\u001b[1;33m)\u001b[0m \u001b[1;33m|\u001b[0m \u001b[1;33m(\u001b[0m\u001b[0mmonth\u001b[0m\u001b[1;33m.\u001b[0m\u001b[0mpickup_latitude\u001b[0m \u001b[1;33m>=\u001b[0m \u001b[1;36m40.9176\u001b[0m\u001b[1;33m)\u001b[0m\u001b[1;33m)\u001b[0m\u001b[1;33m]\u001b[0m\u001b[1;33m\u001b[0m\u001b[0m\n\u001b[0m\u001b[0;32m      2\u001b[0m \u001b[1;33m\u001b[0m\u001b[0m\n\u001b[0;32m      3\u001b[0m \u001b[0mmap_osm\u001b[0m \u001b[1;33m=\u001b[0m \u001b[0mfolium\u001b[0m\u001b[1;33m.\u001b[0m\u001b[0mMap\u001b[0m\u001b[1;33m(\u001b[0m\u001b[0mlocation\u001b[0m\u001b[1;33m=\u001b[0m\u001b[1;33m[\u001b[0m\u001b[1;36m40.734695\u001b[0m\u001b[1;33m,\u001b[0m \u001b[1;33m-\u001b[0m\u001b[1;36m73.990372\u001b[0m\u001b[1;33m]\u001b[0m\u001b[1;33m,\u001b[0m \u001b[0mtiles\u001b[0m\u001b[1;33m=\u001b[0m\u001b[1;34m'Stamen Toner'\u001b[0m\u001b[1;33m)\u001b[0m\u001b[1;33m\u001b[0m\u001b[0m\n\u001b[0;32m      4\u001b[0m \u001b[1;33m\u001b[0m\u001b[0m\n\u001b[0;32m      5\u001b[0m \u001b[0msample_locations\u001b[0m \u001b[1;33m=\u001b[0m \u001b[0moutlier_locations\u001b[0m\u001b[1;33m.\u001b[0m\u001b[0mhead\u001b[0m\u001b[1;33m(\u001b[0m\u001b[1;36m10000\u001b[0m\u001b[1;33m)\u001b[0m\u001b[1;33m\u001b[0m\u001b[0m\n",
      "\u001b[1;31mNameError\u001b[0m: name 'month' is not defined"
     ]
    }
   ],
   "source": [
    "outlier_locations = month[((month.pickup_longitude <= -74.15) | (month.pickup_latitude <= 40.5774)| \\\n",
    "                   (month.pickup_longitude >= -73.7004) | (month.pickup_latitude >= 40.9176))]\n",
    "\n",
    "map_osm = folium.Map(location=[40.734695, -73.990372], tiles='Stamen Toner')\n",
    "#creating default map object\n",
    "\n",
    "sample_locations = outlier_locations.head(10000)\n",
    "for i,j in sample_locations.iterrows():\n",
    "    if int(j['pickup_latitude']) != 0:\n",
    "        folium.Marker(list((j['pickup_latitude'],j['pickup_longitude']))).add_to(map_osm)\n",
    "map_osm"
   ]
  },
  {
   "cell_type": "markdown",
   "metadata": {},
   "source": [
    "## 2. Dropoff Latitude and Longitude"
   ]
  },
  {
   "cell_type": "code",
   "execution_count": 8,
   "metadata": {},
   "outputs": [
    {
     "data": {
      "text/html": [
       "<div style=\"width:100%;\"><div style=\"position:relative;width:100%;height:0;padding-bottom:60%;\"><iframe src=\"data:text/html;charset=utf-8;base64,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\" style=\"position:absolute;width:100%;height:100%;left:0;top:0;border:none !important;\" allowfullscreen webkitallowfullscreen mozallowfullscreen></iframe></div></div>"
      ],
      "text/plain": [
       "<folium.folium.Map at 0x1c240ff320>"
      ]
     },
     "execution_count": 8,
     "metadata": {},
     "output_type": "execute_result"
    }
   ],
   "source": [
    "outlier_locations = month[((month.dropoff_longitude <= -74.15) | (month.dropoff_latitude <= 40.5774)| \\\n",
    "                   (month.dropoff_longitude >= -73.7004) | (month.dropoff_latitude >= 40.9176))]\n",
    "\n",
    "map_osm = folium.Map(location=[40.734695, -73.990372], tiles='Stamen Toner')\n",
    "\n",
    "sample_locations = outlier_locations.head(10000)\n",
    "for i,j in sample_locations.iterrows():\n",
    "    if int(j['dropoff_latitude']) != 0:\n",
    "        folium.Marker(list((j['dropoff_latitude'],j['dropoff_longitude']))).add_to(map_osm)\n",
    "map_osm"
   ]
  },
  {
   "cell_type": "markdown",
   "metadata": {},
   "source": [
    "## 3. Trip Duration"
   ]
  },
  {
   "cell_type": "code",
   "execution_count": 4,
   "metadata": {},
   "outputs": [
    {
     "name": "stdout",
     "output_type": "stream",
     "text": [
      "<class 'pandas.core.frame.DataFrame'>\n",
      "<class 'list'>\n"
     ]
    }
   ],
   "source": [
    "# in out data we have time in the formate \"YYYY-MM-DD HH:MM:SS\" we convert this string to python time format and then into unix time stamp\n",
    "def convert_to_unix(s):\n",
    "    return time.mktime(datetime.datetime.strptime(s, \"%Y-%m-%d %H:%M:%S\").timetuple())\n",
    "\n",
    "#we return a dataframe which contains the columns\n",
    "def return_with_trip_times(month):\n",
    "    duration = month[['tpep_pickup_datetime','tpep_dropoff_datetime']].compute()\n",
    "    #pickups and dropoffs to unix time\n",
    "    duration_pickup = [convert_to_unix(x) for x in duration['tpep_pickup_datetime'].values]\n",
    "    duration_drop = [convert_to_unix(x) for x in duration['tpep_dropoff_datetime'].values]\n",
    "    print(type(duration))\n",
    "    print(type(duration_pickup))  \n",
    "    \n",
    "    #compute duration of trips\n",
    "    durations = (np.array(duration_drop) - np.array(duration_pickup)) / float(60)\n",
    "    \n",
    "    #append duration of trips and speed in miles/hr to a new dataframe\n",
    "    new_frame = month[['passenger_count','trip_distance','pickup_longitude','pickup_latitude','dropoff_longitude','dropoff_latitude','total_amount']].compute()\n",
    "    \n",
    "    new_frame['trip_times'] = durations\n",
    "    new_frame['pickup_times'] = duration_pickup\n",
    "    new_frame['Speed'] = 60 * (new_frame['trip_distance'] / new_frame['trip_times'])\n",
    "    \n",
    "    return new_frame\n",
    "\n",
    "frame_with_durations = return_with_trip_times(month)"
   ]
  },
  {
   "cell_type": "code",
   "execution_count": 11,
   "metadata": {},
   "outputs": [
    {
     "data": {
      "image/png": "[encoded data removed]",
      "text/plain": [
       "<matplotlib.figure.Figure at 0x9e0485828>"
      ]
     },
     "metadata": {},
     "output_type": "display_data"
    }
   ],
   "source": [
    "#box plot showing the presence of outliers\n",
    "sns.boxplot(y = \"trip_times\", data = frame_with_durations)\n",
    "plt.show()"
   ]
  },
  {
   "cell_type": "code",
   "execution_count": 12,
   "metadata": {},
   "outputs": [
    {
     "name": "stdout",
     "output_type": "stream",
     "text": [
      "0 percentile value is -1211.0166666666667\n",
      "10 percentile value is 3.8333333333333335\n",
      "20 percentile value is 5.383333333333334\n",
      "30 percentile value is 6.816666666666666\n",
      "40 percentile value is 8.3\n",
      "50 percentile value is 9.95\n",
      "60 percentile value is 11.866666666666667\n",
      "70 percentile value is 14.283333333333333\n",
      "80 percentile value is 17.633333333333333\n",
      "90 percentile value is 23.45\n",
      "100 percentile value is  548555.6333333333\n"
     ]
    }
   ],
   "source": [
    "#calculation the 0 to 100th percentile to find the threshold for removal of outliers\n",
    "for i in range(0,100,10) :\n",
    "    var = frame_with_durations['trip_times'].values\n",
    "    var = np.sort(var,axis = None)\n",
    "    print(\"{} percentile value is {}\".format(i,var[int(len(var) * (float(i) / 100))]))\n",
    "print(\"100 percentile value is \", var[-1])"
   ]
  },
  {
   "cell_type": "code",
   "execution_count": 13,
   "metadata": {},
   "outputs": [
    {
     "name": "stdout",
     "output_type": "stream",
     "text": [
      "90 percentile value is 23.45\n",
      "91 percentile value is 24.35\n",
      "92 percentile value is 25.383333333333333\n",
      "93 percentile value is 26.55\n",
      "94 percentile value is 27.933333333333334\n",
      "95 percentile value is 29.583333333333332\n",
      "96 percentile value is 31.683333333333334\n",
      "97 percentile value is 34.46666666666667\n",
      "98 percentile value is 38.71666666666667\n",
      "99 percentile value is 46.75\n",
      "100 percentile value is  548555.6333333333\n"
     ]
    }
   ],
   "source": [
    "#looking further deep into 90th percentile\n",
    "for i in range(90,100):\n",
    "    var = frame_with_durations['trip_times'].values\n",
    "    var = np.sort(var,axis = None)\n",
    "    print(\"{} percentile value is {}\".format(i,var[int(len(var) * (float(i) / 100))]))\n",
    "print(\"100 percentile value is \", var[-1])"
   ]
  },
  {
   "cell_type": "code",
   "execution_count": 14,
   "metadata": {},
   "outputs": [
    {
     "name": "stdout",
     "output_type": "stream",
     "text": [
      "99.0 percentile value is 46.75\n",
      "99.1 percentile value is 48.06666666666667\n",
      "99.2 percentile value is 49.56666666666667\n",
      "99.3 percentile value is 51.28333333333333\n",
      "99.4 percentile value is 53.31666666666667\n",
      "99.5 percentile value is 55.833333333333336\n",
      "99.6 percentile value is 59.13333333333333\n",
      "99.7 percentile value is 63.9\n",
      "99.8 percentile value is 71.86666666666666\n",
      "99.9 percentile value is 101.6\n",
      "100 percentile value is  548555.6333333333\n"
     ]
    }
   ],
   "source": [
    "#looking further deep into 99th percentile\n",
    "for i in np.arange(0.0,1.0,0.1):\n",
    "    var = frame_with_durations['trip_times'].values\n",
    "    var = np.sort(var,axis = None)\n",
    "    print(\"{} percentile value is {}\".format(99 + i,var[int(len(var) * (float(99 + i) / 100))]))\n",
    "print(\"100 percentile value is \", var[-1])"
   ]
  },
  {
   "cell_type": "code",
   "execution_count": 5,
   "metadata": {
    "collapsed": true
   },
   "outputs": [],
   "source": [
    "#removing data based on 12 hrs of trip duration\n",
    "frame_with_durations_modified = frame_with_durations[(frame_with_durations.trip_times > 1) & (frame_with_durations.trip_times <= 720)]"
   ]
  },
  {
   "cell_type": "code",
   "execution_count": 16,
   "metadata": {},
   "outputs": [
    {
     "data": {
      "image/png": "[encoded data removed]",
      "text/plain": [
       "<matplotlib.figure.Figure at 0x9e114aa58>"
      ]
     },
     "metadata": {},
     "output_type": "display_data"
    }
   ],
   "source": [
    "#box plot after removal of outliers\n",
    "sns.boxplot(y = \"trip_times\", data = frame_with_durations_modified)\n",
    "plt.show()"
   ]
  },
  {
   "cell_type": "markdown",
   "metadata": {},
   "source": [
    "## 4. Speed"
   ]
  },
  {
   "cell_type": "code",
   "execution_count": 11,
   "metadata": {},
   "outputs": [
    {
     "data": {
      "image/png": "[encoded data removed]",
      "text/plain": [
       "<matplotlib.figure.Figure at 0x105a20080>"
      ]
     },
     "metadata": {},
     "output_type": "display_data"
    }
   ],
   "source": [
    "#check for outliers in the data after trip duration outliers are removed\n",
    "#box plot for speed with outliers\n",
    "frame_with_durations_modified['Speed'] = 60 * (frame_with_durations_modified['trip_distance'] / frame_with_durations_modified['trip_times'])\n",
    "sns.boxplot(y = \"Speed\", data = frame_with_durations_modified)\n",
    "plt.show()"
   ]
  },
  {
   "cell_type": "code",
   "execution_count": 18,
   "metadata": {},
   "outputs": [
    {
     "name": "stdout",
     "output_type": "stream",
     "text": [
      "0 percentile value is 0.0\n",
      "10 percentile value is 6.409495548961425\n",
      "20 percentile value is 7.80952380952381\n",
      "30 percentile value is 8.929133858267717\n",
      "40 percentile value is 9.98019801980198\n",
      "50 percentile value is 11.06865671641791\n",
      "60 percentile value is 12.286689419795222\n",
      "70 percentile value is 13.796407185628745\n",
      "80 percentile value is 15.963224893917962\n",
      "90 percentile value is 20.186915887850468\n",
      "100 percentile value is  192857142.85714284\n"
     ]
    }
   ],
   "source": [
    "#calculating speed at 0-100th percentile\n",
    "for i in range(0,100,10) :\n",
    "    var = frame_with_durations_modified['Speed'].values\n",
    "    var = np.sort(var,axis = None)\n",
    "    print(\"{} percentile value is {}\".format(i,var[int(len(var) * (float(i) / 100))]))\n",
    "print(\"100 percentile value is \",var[-1])"
   ]
  },
  {
   "cell_type": "code",
   "execution_count": 19,
   "metadata": {},
   "outputs": [
    {
     "name": "stdout",
     "output_type": "stream",
     "text": [
      "90 percentile value is 20.186915887850468\n",
      "91 percentile value is 20.91645569620253\n",
      "92 percentile value is 21.752988047808763\n",
      "93 percentile value is 22.721893491124263\n",
      "94 percentile value is 23.844155844155843\n",
      "95 percentile value is 25.182552504038775\n",
      "96 percentile value is 26.80851063829787\n",
      "97 percentile value is 28.84304932735426\n",
      "98 percentile value is 31.591128254580514\n",
      "99 percentile value is 35.7513566847558\n",
      "100 percentile value is  192857142.85714284\n"
     ]
    }
   ],
   "source": [
    "#looking further deep into 90th percentile to determine threshold value\n",
    "for i in range(90,100) :\n",
    "    var = frame_with_durations_modified['Speed'].values\n",
    "    var = np.sort(var,axis = None)\n",
    "    print(\"{} percentile value is {}\".format(i,var[int(len(var) * (float(i) / 100))]))\n",
    "print(\"100 percentile value is \",var[-1])"
   ]
  },
  {
   "cell_type": "code",
   "execution_count": 20,
   "metadata": {},
   "outputs": [
    {
     "name": "stdout",
     "output_type": "stream",
     "text": [
      "99.0 percentile value is 35.7513566847558\n",
      "99.1 percentile value is 36.31084727468969\n",
      "99.2 percentile value is 36.91470054446461\n",
      "99.3 percentile value is 37.588235294117645\n",
      "99.4 percentile value is 38.33035714285714\n",
      "99.5 percentile value is 39.17580340264651\n",
      "99.6 percentile value is 40.15384615384615\n",
      "99.7 percentile value is 41.338301043219076\n",
      "99.8 percentile value is 42.86631016042781\n",
      "99.9 percentile value is 45.3107822410148\n",
      "100 percentile value is  192857142.85714284\n"
     ]
    }
   ],
   "source": [
    "#looking further deep into 99th percentile to determine threshold value\n",
    "for i in np.arange(0.0,1.0,0.1) :\n",
    "    var = frame_with_durations_modified['Speed'].values\n",
    "    var = np.sort(var,axis = None)\n",
    "    print(\"{} percentile value is {}\".format(99 + i,var[int(len(var) * (float(99 + i) / 100))]))\n",
    "print(\"100 percentile value is \",var[-1])"
   ]
  },
  {
   "cell_type": "code",
   "execution_count": 6,
   "metadata": {
    "collapsed": true
   },
   "outputs": [],
   "source": [
    "#removing outliers based on thr 99.9th percentile\n",
    "frame_with_durations_modified = frame_with_durations_modified[(frame_with_durations_modified.Speed > 0) & (frame_with_durations_modified.Speed <= 45.31)]"
   ]
  },
  {
   "cell_type": "code",
   "execution_count": 13,
   "metadata": {},
   "outputs": [
    {
     "data": {
      "text/plain": [
       "12.452320837813998"
      ]
     },
     "execution_count": 13,
     "metadata": {},
     "output_type": "execute_result"
    }
   ],
   "source": [
    "#avg. speed of cabs in NYC\n",
    "sum(frame_with_durations_modified.Speed) / float(len(frame_with_durations_modified.Speed))"
   ]
  },
  {
   "cell_type": "markdown",
   "metadata": {},
   "source": [
    "The avg speed of cabs is 12.45 miles/hr, so a cab can travel 2 miles per 10 mins on average."
   ]
  },
  {
   "cell_type": "markdown",
   "metadata": {},
   "source": [
    "## 5. Trip Distance"
   ]
  },
  {
   "cell_type": "code",
   "execution_count": 23,
   "metadata": {},
   "outputs": [
    {
     "data": {
      "image/png": "[encoded data removed]",
      "text/plain": [
       "<matplotlib.figure.Figure at 0x9cfa7aeb8>"
      ]
     },
     "metadata": {},
     "output_type": "display_data"
    }
   ],
   "source": [
    "#removing outliers based on trip distance\n",
    "#visualizing the outliers\n",
    "sns.boxplot(y = \"trip_distance\", data = frame_with_durations_modified)\n",
    "plt.show()"
   ]
  },
  {
   "cell_type": "code",
   "execution_count": 24,
   "metadata": {},
   "outputs": [
    {
     "name": "stdout",
     "output_type": "stream",
     "text": [
      "0 percentile value is 0.01\n",
      "10 percentile value is 0.67\n",
      "20 percentile value is 0.9\n",
      "30 percentile value is 1.1\n",
      "40 percentile value is 1.39\n",
      "50 percentile value is 1.7\n",
      "60 percentile value is 2.08\n",
      "70 percentile value is 2.61\n",
      "80 percentile value is 3.6\n",
      "90 percentile value is 5.98\n",
      "100 percentile value is  258.9\n"
     ]
    }
   ],
   "source": [
    "#calculating the values at 0-100th percentile for trip distance\n",
    "for i in range(0,100,10) :\n",
    "    var = frame_with_durations_modified[\"trip_distance\"].values\n",
    "    var = np.sort(var,axis = None)\n",
    "    print(\"{} percentile value is {}\".format(i,var[int(len(var) * (float(i) / 100))]))\n",
    "print(\"100 percentile value is \", var[-1])"
   ]
  },
  {
   "cell_type": "code",
   "execution_count": 25,
   "metadata": {},
   "outputs": [
    {
     "name": "stdout",
     "output_type": "stream",
     "text": [
      "90 percentile value is 5.98\n",
      "91 percentile value is 6.47\n",
      "92 percentile value is 7.09\n",
      "93 percentile value is 7.87\n",
      "94 percentile value is 8.74\n",
      "95 percentile value is 9.6\n",
      "96 percentile value is 10.6\n",
      "97 percentile value is 12.1\n",
      "98 percentile value is 16.06\n",
      "99 percentile value is 18.18\n",
      "100 percentile value is  258.9\n"
     ]
    }
   ],
   "source": [
    "#looking further deep into the 90-100th percentile values\n",
    "for i in range(90,100) :\n",
    "    var = frame_with_durations_modified[\"trip_distance\"].values\n",
    "    var = np.sort(var,axis = None)\n",
    "    print(\"{} percentile value is {}\".format(i,var[int(len(var) * (float(i) / 100))]))\n",
    "print(\"100 percentile value is \", var[-1])"
   ]
  },
  {
   "cell_type": "code",
   "execution_count": 26,
   "metadata": {},
   "outputs": [
    {
     "name": "stdout",
     "output_type": "stream",
     "text": [
      "99.0 percentile value is 18.18\n",
      "99.1 percentile value is 18.37\n",
      "99.2 percentile value is 18.6\n",
      "99.3 percentile value is 18.84\n",
      "99.4 percentile value is 19.14\n",
      "99.5 percentile value is 19.5\n",
      "99.6 percentile value is 19.97\n",
      "99.7 percentile value is 20.51\n",
      "99.8 percentile value is 21.23\n",
      "99.9 percentile value is 22.58\n",
      "100 percentile value is  258.9\n"
     ]
    }
   ],
   "source": [
    "#looking further deep into the 99th percentile values to determine the threshold value of trip distance\n",
    "for i in np.arange(0.0,1.0,0.1) :\n",
    "    var = frame_with_durations_modified[\"trip_distance\"].values\n",
    "    var = np.sort(var,axis = None)\n",
    "    print(\"{} percentile value is {}\".format(99 + i,var[int(len(var) * (float(99 + i) / 100))]))\n",
    "print(\"100 percentile value is \", var[-1])"
   ]
  },
  {
   "cell_type": "code",
   "execution_count": 7,
   "metadata": {
    "collapsed": true
   },
   "outputs": [],
   "source": [
    "#removing the outliers based on the 99.9th percentile value of trip distance\n",
    "frame_with_durations_modified = frame_with_durations_modified[(frame_with_durations_modified.trip_distance > 0) & (frame_with_durations_modified.trip_distance < 23)]"
   ]
  },
  {
   "cell_type": "code",
   "execution_count": 28,
   "metadata": {},
   "outputs": [
    {
     "data": {
      "image/png": "[encoded data removed]",
      "text/plain": [
       "<matplotlib.figure.Figure at 0x9e0059240>"
      ]
     },
     "metadata": {},
     "output_type": "display_data"
    }
   ],
   "source": [
    "#boxplot after removal of outliers\n",
    "sns.boxplot(y = \"trip_distance\", data = frame_with_durations_modified)\n",
    "plt.show()"
   ]
  },
  {
   "cell_type": "markdown",
   "metadata": {},
   "source": [
    "We kept the threshold value for trip distance as 23 miles"
   ]
  },
  {
   "cell_type": "markdown",
   "metadata": {},
   "source": [
    "## 5. Total Fare"
   ]
  },
  {
   "cell_type": "code",
   "execution_count": 29,
   "metadata": {},
   "outputs": [
    {
     "data": {
      "image/png": "[encoded data removed]",
      "text/plain": [
       "<matplotlib.figure.Figure at 0x9dff56ac8>"
      ]
     },
     "metadata": {},
     "output_type": "display_data"
    }
   ],
   "source": [
    "#box plot to visualize the outliers of total fare\n",
    "sns.boxplot(y = 'total_amount', data = frame_with_durations_modified)\n",
    "plt.show()"
   ]
  },
  {
   "cell_type": "code",
   "execution_count": 30,
   "metadata": {},
   "outputs": [
    {
     "name": "stdout",
     "output_type": "stream",
     "text": [
      "0 percentile value is -242.55\n",
      "10 percentile value is 6.35\n",
      "20 percentile value is 7.8\n",
      "30 percentile value is 8.8\n",
      "40 percentile value is 9.8\n",
      "50 percentile value is 11.16\n",
      "60 percentile value is 12.8\n",
      "70 percentile value is 14.8\n",
      "80 percentile value is 18.3\n",
      "90 percentile value is 25.8\n",
      "100 percentile value is  3950611.6\n"
     ]
    }
   ],
   "source": [
    "#calulating total fare amount value for 0-100th percentile\n",
    "for i in range(0,100,10) :\n",
    "    var = frame_with_durations_modified['total_amount'].values\n",
    "    var = np.sort(var,axis = None)\n",
    "    print(\"{} percentile value is {}\".format(i,var[int(len(var) * (float(i) / 100))]))\n",
    "print(\"100 percentile value is \",var[-1])"
   ]
  },
  {
   "cell_type": "code",
   "execution_count": 31,
   "metadata": {},
   "outputs": [
    {
     "name": "stdout",
     "output_type": "stream",
     "text": [
      "90 percentile value is 25.8\n",
      "91 percentile value is 27.3\n",
      "92 percentile value is 29.13\n",
      "93 percentile value is 31.55\n",
      "94 percentile value is 34.63\n",
      "95 percentile value is 38.13\n",
      "96 percentile value is 42.13\n",
      "97 percentile value is 47.53\n",
      "98 percentile value is 57.68\n",
      "99 percentile value is 65.8\n",
      "100 percentile value is  3950611.6\n"
     ]
    }
   ],
   "source": [
    "#looking further into the 90-100th percentile values\n",
    "for i in range(90,100) :\n",
    "    var = frame_with_durations_modified[\"total_amount\"].values\n",
    "    var = np.sort(var,axis = None)\n",
    "    print(\"{} percentile value is {}\".format(i,var[int(len(var) * (float(i) / 100))]))\n",
    "print(\"100 percentile value is \", var[-1])"
   ]
  },
  {
   "cell_type": "code",
   "execution_count": 32,
   "metadata": {},
   "outputs": [
    {
     "name": "stdout",
     "output_type": "stream",
     "text": [
      "99.0 percentile value is 65.8\n",
      "99.1 percentile value is 67.55\n",
      "99.2 percentile value is 68.8\n",
      "99.3 percentile value is 69.6\n",
      "99.4 percentile value is 69.73\n",
      "99.5 percentile value is 69.73\n",
      "99.6 percentile value is 69.76\n",
      "99.7 percentile value is 72.46\n",
      "99.8 percentile value is 75.16\n",
      "99.9 percentile value is 86.6\n",
      "100 percentile value is  3950611.6\n"
     ]
    }
   ],
   "source": [
    "#looking further into the 99th percentile values to determine the threshold values for total_amount\n",
    "for i in np.arange(0.0,1.0,0.1) :\n",
    "    var = frame_with_durations_modified[\"total_amount\"].values\n",
    "    var = np.sort(var,axis = None)\n",
    "    print(\"{} percentile value is {}\".format(99 + i,var[int(len(var) * (float(99 + i) / 100))]))\n",
    "print(\"100 percentile value is \", var[-1])"
   ]
  },
  {
   "cell_type": "markdown",
   "metadata": {},
   "source": [
    "As even the 99.9th percentile value doesnot look like an outlier,we perform graphical analysis"
   ]
  },
  {
   "cell_type": "code",
   "execution_count": 33,
   "metadata": {},
   "outputs": [
    {
     "data": {
      "image/png": "[encoded data removed]",
      "text/plain": [
       "<matplotlib.figure.Figure at 0x9dff24b70>"
      ]
     },
     "metadata": {},
     "output_type": "display_data"
    }
   ],
   "source": [
    "#ploting the fare amount excluding the last two values in sorted data\n",
    "plt.plot(var[:-2])\n",
    "plt.show()"
   ]
  },
  {
   "cell_type": "code",
   "execution_count": 34,
   "metadata": {},
   "outputs": [
    {
     "data": {
      "image/png": "[encoded data removed]",
      "text/plain": [
       "<matplotlib.figure.Figure at 0x9dfefd198>"
      ]
     },
     "metadata": {},
     "output_type": "display_data"
    }
   ],
   "source": [
    "#plotting the last three values show sharp increase in total amount\n",
    "plt.plot(var[-3:])\n",
    "plt.show()"
   ]
  },
  {
   "cell_type": "code",
   "execution_count": 35,
   "metadata": {},
   "outputs": [
    {
     "data": {
      "image/png": "[encoded data removed]",
      "text/plain": [
       "<matplotlib.figure.Figure at 0x9dfd34b00>"
      ]
     },
     "metadata": {},
     "output_type": "display_data"
    }
   ],
   "source": [
    "#plotting the last 50 values excluding the last 2 values\n",
    "plt.plot(var[-50:-2])\n",
    "plt.show()"
   ]
  },
  {
   "cell_type": "markdown",
   "metadata": {},
   "source": [
    "Therefore we take the threshold value for total_amount as 1000 dollars"
   ]
  },
  {
   "cell_type": "code",
   "execution_count": 8,
   "metadata": {
    "collapsed": true
   },
   "outputs": [],
   "source": [
    "#removing the outilers\n",
    "frame_with_durations_modified = frame_with_durations_modified[(frame_with_durations_modified.total_amount > 0) & (frame_with_durations_modified.total_amount < 1000)]"
   ]
  },
  {
   "cell_type": "code",
   "execution_count": 37,
   "metadata": {},
   "outputs": [
    {
     "data": {
      "image/png": "[encoded data removed]",
      "text/plain": [
       "<matplotlib.figure.Figure at 0x9e128f588>"
      ]
     },
     "metadata": {},
     "output_type": "display_data"
    }
   ],
   "source": [
    "#boxplot after removal of outliers\n",
    "sns.boxplot(y = \"total_amount\", data = frame_with_durations_modified)\n",
    "plt.show()"
   ]
  },
  {
   "cell_type": "markdown",
   "metadata": {},
   "source": [
    "## Removal of Outliers/Erronous points"
   ]
  },
  {
   "cell_type": "code",
   "execution_count": 9,
   "metadata": {
    "collapsed": true
   },
   "outputs": [],
   "source": [
    "#removing all outliers based on our analysis\n",
    "def remove_outliers(new_frame) :\n",
    "    a = new_frame.shape[0]\n",
    "    print(\"Number of pickup records = \", a)\n",
    "    \n",
    "    #removing trips lying outside the latitude and longitude\n",
    "    temp_frame = new_frame[((new_frame.dropoff_longitude >= -74.15) & (new_frame.dropoff_longitude <= -73.7004) &\\\n",
    "                       (new_frame.dropoff_latitude >= 40.5774) & (new_frame.dropoff_latitude <= 40.9176)) & \\\n",
    "                       ((new_frame.pickup_longitude >= -74.15) & (new_frame.pickup_latitude >= 40.5774)& \\\n",
    "                       (new_frame.pickup_longitude <= -73.7004) & (new_frame.pickup_latitude <= 40.9176))]\n",
    "    b = temp_frame.shape[0]\n",
    "    print (\"Number of outlier coordinates lying outside NY boundaries:\",(a-b))\n",
    "\n",
    "    \n",
    "    #removing trips lying outside 12 hrs of trip_duration\n",
    "    temp_frame = new_frame[(new_frame.trip_times > 0) & (new_frame.trip_times < 720)]\n",
    "    c = temp_frame.shape[0]\n",
    "    print (\"Number of outliers from trip times analysis:\",(a-c))\n",
    "    \n",
    "    #removing outliers having trip_distance > 23 miles\n",
    "    temp_frame = new_frame[(new_frame.trip_distance > 0) & (new_frame.trip_distance < 23)]\n",
    "    d = temp_frame.shape[0]\n",
    "    print (\"Number of outliers from trip distance analysis:\",(a-d))\n",
    "    \n",
    "    #removing outliers having speed > 45.31\n",
    "    temp_frame = new_frame[(new_frame.Speed <= 45.31) & (new_frame.Speed >= 0)]\n",
    "    e = temp_frame.shape[0]\n",
    "    print (\"Number of outliers from speed analysis:\",(a-e))\n",
    "    \n",
    "    #removing outliers having total_amount > 1000 dollars\n",
    "    temp_frame = new_frame[(new_frame.total_amount < 1000) & (new_frame.total_amount >0)]\n",
    "    f = temp_frame.shape[0]\n",
    "    print (\"Number of outliers from fare analysis:\",(a-f))\n",
    "    \n",
    "    \n",
    "    new_frame = new_frame[((new_frame.dropoff_longitude >= -74.15) & (new_frame.dropoff_longitude <= -73.7004) &\\\n",
    "                       (new_frame.dropoff_latitude >= 40.5774) & (new_frame.dropoff_latitude <= 40.9176)) & \\\n",
    "                       ((new_frame.pickup_longitude >= -74.15) & (new_frame.pickup_latitude >= 40.5774)& \\\n",
    "                       (new_frame.pickup_longitude <= -73.7004) & (new_frame.pickup_latitude <= 40.9176))]\n",
    "    \n",
    "    new_frame = new_frame[(new_frame.trip_times > 0) & (new_frame.trip_times < 720)]\n",
    "    new_frame = new_frame[(new_frame.trip_distance > 0) & (new_frame.trip_distance < 23)]\n",
    "    new_frame = new_frame[(new_frame.Speed < 45.31) & (new_frame.Speed > 0)]\n",
    "    new_frame = new_frame[(new_frame.total_amount <1000) & (new_frame.total_amount >0)]\n",
    "    \n",
    "    print (\"Total outliers removed\",a - new_frame.shape[0])\n",
    "    print (\"---\")\n",
    "    return new_frame    "
   ]
  },
  {
   "cell_type": "code",
   "execution_count": 11,
   "metadata": {},
   "outputs": [
    {
     "name": "stdout",
     "output_type": "stream",
     "text": [
      "Removing the outliers: \n",
      "-----\n",
      "Number of pickup records =  12748986\n",
      "Number of outlier coordinates lying outside NY boundaries: 293919\n",
      "Number of outliers from trip times analysis: 23889\n",
      "Number of outliers from trip distance analysis: 92597\n",
      "Number of outliers from speed analysis: 36690\n",
      "Number of outliers from fare analysis: 5275\n",
      "Total outliers removed 377910\n",
      "---\n",
      "fraction of data points that remain after removing outliers =  0.9703576425607495\n"
     ]
    }
   ],
   "source": [
    "print(\"Removing the outliers: \")\n",
    "print(\"-----\")\n",
    "frame_with_durations_outliers_removed = remove_outliers(frame_with_durations)\n",
    "print(\"fraction of data points that remain after removing outliers = \", float(len(frame_with_durations_outliers_removed)/len(frame_with_durations)))"
   ]
  },
  {
   "cell_type": "markdown",
   "metadata": {},
   "source": [
    "# Clustering"
   ]
  },
  {
   "cell_type": "code",
   "execution_count": 12,
   "metadata": {},
   "outputs": [
    {
     "name": "stdout",
     "output_type": "stream",
     "text": [
      "On choosing a cluster size of  10 \n",
      "Avg. number of clusters within the vicinity (i.e. intercluster distance < 2) :  2.0 \n",
      "Avg. number of clusters outside the vicinity (i.e. intercluster distance > 2) :  8.0 \n",
      "Min inter-cluster distance =  1.0945442325142543 \n",
      "-----\n",
      "On choosing a cluster size of  20 \n",
      "Avg. number of clusters within the vicinity (i.e. intercluster distance < 2) :  4.0 \n",
      "Avg. number of clusters outside the vicinity (i.e. intercluster distance > 2) :  16.0 \n",
      "Min inter-cluster distance =  0.7131298007387813 \n",
      "-----\n",
      "On choosing a cluster size of  30 \n",
      "Avg. number of clusters within the vicinity (i.e. intercluster distance < 2) :  8.0 \n",
      "Avg. number of clusters outside the vicinity (i.e. intercluster distance > 2) :  22.0 \n",
      "Min inter-cluster distance =  0.5185088176172206 \n",
      "-----\n"
     ]
    },
    {
     "ename": "KeyboardInterrupt",
     "evalue": "",
     "output_type": "error",
     "traceback": [
      "\u001b[0;31m---------------------------------------------------------------------------\u001b[0m",
      "\u001b[0;31mKeyboardInterrupt\u001b[0m                         Traceback (most recent call last)",
      "\u001b[0;32m<ipython-input-12-f3237440d139>\u001b[0m in \u001b[0;36m<module>\u001b[0;34m()\u001b[0m\n\u001b[1;32m     33\u001b[0m \u001b[0;34m\u001b[0m\u001b[0m\n\u001b[1;32m     34\u001b[0m \u001b[0;32mfor\u001b[0m \u001b[0mi\u001b[0m \u001b[0;32min\u001b[0m \u001b[0mrange\u001b[0m\u001b[0;34m(\u001b[0m\u001b[0;36m10\u001b[0m\u001b[0;34m,\u001b[0m\u001b[0;36m100\u001b[0m\u001b[0;34m,\u001b[0m\u001b[0;36m10\u001b[0m\u001b[0;34m)\u001b[0m \u001b[0;34m:\u001b[0m\u001b[0;34m\u001b[0m\u001b[0m\n\u001b[0;32m---> 35\u001b[0;31m     \u001b[0mcluster_centers\u001b[0m\u001b[0;34m,\u001b[0m\u001b[0mcluster_len\u001b[0m \u001b[0;34m=\u001b[0m \u001b[0mfind_clusters\u001b[0m\u001b[0;34m(\u001b[0m\u001b[0mi\u001b[0m\u001b[0;34m)\u001b[0m\u001b[0;34m\u001b[0m\u001b[0m\n\u001b[0m\u001b[1;32m     36\u001b[0m     \u001b[0mfind_min_distance\u001b[0m\u001b[0;34m(\u001b[0m\u001b[0mcluster_centers\u001b[0m\u001b[0;34m,\u001b[0m\u001b[0mcluster_len\u001b[0m\u001b[0;34m)\u001b[0m\u001b[0;34m\u001b[0m\u001b[0m\n",
      "\u001b[0;32m<ipython-input-12-f3237440d139>\u001b[0m in \u001b[0;36mfind_clusters\u001b[0;34m(k)\u001b[0m\n\u001b[1;32m     27\u001b[0m \u001b[0;32mdef\u001b[0m \u001b[0mfind_clusters\u001b[0m\u001b[0;34m(\u001b[0m\u001b[0mk\u001b[0m\u001b[0;34m)\u001b[0m \u001b[0;34m:\u001b[0m\u001b[0;34m\u001b[0m\u001b[0m\n\u001b[1;32m     28\u001b[0m     \u001b[0mkmeans\u001b[0m \u001b[0;34m=\u001b[0m \u001b[0mMiniBatchKMeans\u001b[0m\u001b[0;34m(\u001b[0m\u001b[0mn_clusters\u001b[0m \u001b[0;34m=\u001b[0m \u001b[0mk\u001b[0m\u001b[0;34m,\u001b[0m \u001b[0mbatch_size\u001b[0m \u001b[0;34m=\u001b[0m \u001b[0;36m10000\u001b[0m\u001b[0;34m,\u001b[0m\u001b[0mrandom_state\u001b[0m \u001b[0;34m=\u001b[0m \u001b[0;36m42\u001b[0m\u001b[0;34m)\u001b[0m\u001b[0;34m.\u001b[0m\u001b[0mfit\u001b[0m\u001b[0;34m(\u001b[0m\u001b[0mcoords\u001b[0m\u001b[0;34m)\u001b[0m\u001b[0;34m\u001b[0m\u001b[0m\n\u001b[0;32m---> 29\u001b[0;31m     \u001b[0mframe_with_durations_outliers_removed\u001b[0m\u001b[0;34m[\u001b[0m\u001b[0;34m'pickup_cluster'\u001b[0m\u001b[0;34m]\u001b[0m \u001b[0;34m=\u001b[0m \u001b[0mkmeans\u001b[0m\u001b[0;34m.\u001b[0m\u001b[0mpredict\u001b[0m\u001b[0;34m(\u001b[0m\u001b[0mframe_with_durations_outliers_removed\u001b[0m\u001b[0;34m[\u001b[0m\u001b[0;34m[\u001b[0m\u001b[0;34m'pickup_latitude'\u001b[0m\u001b[0;34m,\u001b[0m\u001b[0;34m'pickup_longitude'\u001b[0m\u001b[0;34m]\u001b[0m\u001b[0;34m]\u001b[0m\u001b[0;34m)\u001b[0m\u001b[0;34m\u001b[0m\u001b[0m\n\u001b[0m\u001b[1;32m     30\u001b[0m     \u001b[0mcluster_centers\u001b[0m \u001b[0;34m=\u001b[0m \u001b[0mkmeans\u001b[0m\u001b[0;34m.\u001b[0m\u001b[0mcluster_centers_\u001b[0m\u001b[0;34m\u001b[0m\u001b[0m\n\u001b[1;32m     31\u001b[0m     \u001b[0mcluster_len\u001b[0m \u001b[0;34m=\u001b[0m \u001b[0mlen\u001b[0m\u001b[0;34m(\u001b[0m\u001b[0mcluster_centers\u001b[0m\u001b[0;34m)\u001b[0m\u001b[0;34m\u001b[0m\u001b[0m\n",
      "\u001b[0;32m/anaconda3/lib/python3.6/site-packages/sklearn/cluster/k_means_.py\u001b[0m in \u001b[0;36mpredict\u001b[0;34m(self, X)\u001b[0m\n\u001b[1;32m   1580\u001b[0m \u001b[0;34m\u001b[0m\u001b[0m\n\u001b[1;32m   1581\u001b[0m         \u001b[0mX\u001b[0m \u001b[0;34m=\u001b[0m \u001b[0mself\u001b[0m\u001b[0;34m.\u001b[0m\u001b[0m_check_test_data\u001b[0m\u001b[0;34m(\u001b[0m\u001b[0mX\u001b[0m\u001b[0;34m)\u001b[0m\u001b[0;34m\u001b[0m\u001b[0m\n\u001b[0;32m-> 1582\u001b[0;31m         \u001b[0;32mreturn\u001b[0m \u001b[0mself\u001b[0m\u001b[0;34m.\u001b[0m\u001b[0m_labels_inertia_minibatch\u001b[0m\u001b[0;34m(\u001b[0m\u001b[0mX\u001b[0m\u001b[0;34m)\u001b[0m\u001b[0;34m[\u001b[0m\u001b[0;36m0\u001b[0m\u001b[0;34m]\u001b[0m\u001b[0;34m\u001b[0m\u001b[0m\n\u001b[0m",
      "\u001b[0;32m/anaconda3/lib/python3.6/site-packages/sklearn/cluster/k_means_.py\u001b[0m in \u001b[0;36m_labels_inertia_minibatch\u001b[0;34m(self, X)\u001b[0m\n\u001b[1;32m   1500\u001b[0m         \u001b[0mslices\u001b[0m \u001b[0;34m=\u001b[0m \u001b[0mgen_batches\u001b[0m\u001b[0;34m(\u001b[0m\u001b[0mX\u001b[0m\u001b[0;34m.\u001b[0m\u001b[0mshape\u001b[0m\u001b[0;34m[\u001b[0m\u001b[0;36m0\u001b[0m\u001b[0;34m]\u001b[0m\u001b[0;34m,\u001b[0m \u001b[0mself\u001b[0m\u001b[0;34m.\u001b[0m\u001b[0mbatch_size\u001b[0m\u001b[0;34m)\u001b[0m\u001b[0;34m\u001b[0m\u001b[0m\n\u001b[1;32m   1501\u001b[0m         results = [_labels_inertia(X[s], x_squared_norms[s],\n\u001b[0;32m-> 1502\u001b[0;31m                                    self.cluster_centers_) for s in slices]\n\u001b[0m\u001b[1;32m   1503\u001b[0m         \u001b[0mlabels\u001b[0m\u001b[0;34m,\u001b[0m \u001b[0minertia\u001b[0m \u001b[0;34m=\u001b[0m \u001b[0mzip\u001b[0m\u001b[0;34m(\u001b[0m\u001b[0;34m*\u001b[0m\u001b[0mresults\u001b[0m\u001b[0;34m)\u001b[0m\u001b[0;34m\u001b[0m\u001b[0m\n\u001b[1;32m   1504\u001b[0m         \u001b[0;32mreturn\u001b[0m \u001b[0mnp\u001b[0m\u001b[0;34m.\u001b[0m\u001b[0mhstack\u001b[0m\u001b[0;34m(\u001b[0m\u001b[0mlabels\u001b[0m\u001b[0;34m)\u001b[0m\u001b[0;34m,\u001b[0m \u001b[0mnp\u001b[0m\u001b[0;34m.\u001b[0m\u001b[0msum\u001b[0m\u001b[0;34m(\u001b[0m\u001b[0minertia\u001b[0m\u001b[0;34m)\u001b[0m\u001b[0;34m\u001b[0m\u001b[0m\n",
      "\u001b[0;32m/anaconda3/lib/python3.6/site-packages/sklearn/cluster/k_means_.py\u001b[0m in \u001b[0;36m<listcomp>\u001b[0;34m(.0)\u001b[0m\n\u001b[1;32m   1500\u001b[0m         \u001b[0mslices\u001b[0m \u001b[0;34m=\u001b[0m \u001b[0mgen_batches\u001b[0m\u001b[0;34m(\u001b[0m\u001b[0mX\u001b[0m\u001b[0;34m.\u001b[0m\u001b[0mshape\u001b[0m\u001b[0;34m[\u001b[0m\u001b[0;36m0\u001b[0m\u001b[0;34m]\u001b[0m\u001b[0;34m,\u001b[0m \u001b[0mself\u001b[0m\u001b[0;34m.\u001b[0m\u001b[0mbatch_size\u001b[0m\u001b[0;34m)\u001b[0m\u001b[0;34m\u001b[0m\u001b[0m\n\u001b[1;32m   1501\u001b[0m         results = [_labels_inertia(X[s], x_squared_norms[s],\n\u001b[0;32m-> 1502\u001b[0;31m                                    self.cluster_centers_) for s in slices]\n\u001b[0m\u001b[1;32m   1503\u001b[0m         \u001b[0mlabels\u001b[0m\u001b[0;34m,\u001b[0m \u001b[0minertia\u001b[0m \u001b[0;34m=\u001b[0m \u001b[0mzip\u001b[0m\u001b[0;34m(\u001b[0m\u001b[0;34m*\u001b[0m\u001b[0mresults\u001b[0m\u001b[0;34m)\u001b[0m\u001b[0;34m\u001b[0m\u001b[0m\n\u001b[1;32m   1504\u001b[0m         \u001b[0;32mreturn\u001b[0m \u001b[0mnp\u001b[0m\u001b[0;34m.\u001b[0m\u001b[0mhstack\u001b[0m\u001b[0;34m(\u001b[0m\u001b[0mlabels\u001b[0m\u001b[0;34m)\u001b[0m\u001b[0;34m,\u001b[0m \u001b[0mnp\u001b[0m\u001b[0;34m.\u001b[0m\u001b[0msum\u001b[0m\u001b[0;34m(\u001b[0m\u001b[0minertia\u001b[0m\u001b[0;34m)\u001b[0m\u001b[0;34m\u001b[0m\u001b[0m\n",
      "\u001b[0;32m/anaconda3/lib/python3.6/site-packages/sklearn/cluster/k_means_.py\u001b[0m in \u001b[0;36m_labels_inertia\u001b[0;34m(X, x_squared_norms, centers, precompute_distances, distances)\u001b[0m\n\u001b[1;32m    618\u001b[0m         \u001b[0;32mif\u001b[0m \u001b[0mprecompute_distances\u001b[0m\u001b[0;34m:\u001b[0m\u001b[0;34m\u001b[0m\u001b[0m\n\u001b[1;32m    619\u001b[0m             return _labels_inertia_precompute_dense(X, x_squared_norms,\n\u001b[0;32m--> 620\u001b[0;31m                                                     centers, distances)\n\u001b[0m\u001b[1;32m    621\u001b[0m         inertia = _k_means._assign_labels_array(\n\u001b[1;32m    622\u001b[0m             X, x_squared_norms, centers, labels, distances=distances)\n",
      "\u001b[0;32m/anaconda3/lib/python3.6/site-packages/sklearn/cluster/k_means_.py\u001b[0m in \u001b[0;36m_labels_inertia_precompute_dense\u001b[0;34m(X, x_squared_norms, centers, distances)\u001b[0m\n\u001b[1;32m    561\u001b[0m     \u001b[0;31m# TODO: Once PR #7383 is merged use check_inputs=False in metric_kwargs.\u001b[0m\u001b[0;34m\u001b[0m\u001b[0;34m\u001b[0m\u001b[0m\n\u001b[1;32m    562\u001b[0m     labels, mindist = pairwise_distances_argmin_min(\n\u001b[0;32m--> 563\u001b[0;31m         X=X, Y=centers, metric='euclidean', metric_kwargs={'squared': True})\n\u001b[0m\u001b[1;32m    564\u001b[0m     \u001b[0;31m# cython k-means code assumes int32 inputs\u001b[0m\u001b[0;34m\u001b[0m\u001b[0;34m\u001b[0m\u001b[0m\n\u001b[1;32m    565\u001b[0m     \u001b[0mlabels\u001b[0m \u001b[0;34m=\u001b[0m \u001b[0mlabels\u001b[0m\u001b[0;34m.\u001b[0m\u001b[0mastype\u001b[0m\u001b[0;34m(\u001b[0m\u001b[0mnp\u001b[0m\u001b[0;34m.\u001b[0m\u001b[0mint32\u001b[0m\u001b[0;34m)\u001b[0m\u001b[0;34m\u001b[0m\u001b[0m\n",
      "\u001b[0;32m/anaconda3/lib/python3.6/site-packages/sklearn/metrics/pairwise.py\u001b[0m in \u001b[0;36mpairwise_distances_argmin_min\u001b[0;34m(X, Y, axis, metric, batch_size, metric_kwargs)\u001b[0m\n\u001b[1;32m    364\u001b[0m                                               dense_output=True)\n\u001b[1;32m    365\u001b[0m                     \u001b[0md_chunk\u001b[0m \u001b[0;34m*=\u001b[0m \u001b[0;34m-\u001b[0m\u001b[0;36m2\u001b[0m\u001b[0;34m\u001b[0m\u001b[0m\n\u001b[0;32m--> 366\u001b[0;31m                     \u001b[0md_chunk\u001b[0m \u001b[0;34m+=\u001b[0m \u001b[0mrow_norms\u001b[0m\u001b[0;34m(\u001b[0m\u001b[0mX_chunk\u001b[0m\u001b[0;34m,\u001b[0m \u001b[0msquared\u001b[0m\u001b[0;34m=\u001b[0m\u001b[0;32mTrue\u001b[0m\u001b[0;34m)\u001b[0m\u001b[0;34m[\u001b[0m\u001b[0;34m:\u001b[0m\u001b[0;34m,\u001b[0m \u001b[0mnp\u001b[0m\u001b[0;34m.\u001b[0m\u001b[0mnewaxis\u001b[0m\u001b[0;34m]\u001b[0m\u001b[0;34m\u001b[0m\u001b[0m\n\u001b[0m\u001b[1;32m    367\u001b[0m                     \u001b[0md_chunk\u001b[0m \u001b[0;34m+=\u001b[0m \u001b[0mrow_norms\u001b[0m\u001b[0;34m(\u001b[0m\u001b[0mY_chunk\u001b[0m\u001b[0;34m,\u001b[0m \u001b[0msquared\u001b[0m\u001b[0;34m=\u001b[0m\u001b[0;32mTrue\u001b[0m\u001b[0;34m)\u001b[0m\u001b[0;34m[\u001b[0m\u001b[0mnp\u001b[0m\u001b[0;34m.\u001b[0m\u001b[0mnewaxis\u001b[0m\u001b[0;34m,\u001b[0m \u001b[0;34m:\u001b[0m\u001b[0;34m]\u001b[0m\u001b[0;34m\u001b[0m\u001b[0m\n\u001b[1;32m    368\u001b[0m                     \u001b[0mnp\u001b[0m\u001b[0;34m.\u001b[0m\u001b[0mmaximum\u001b[0m\u001b[0;34m(\u001b[0m\u001b[0md_chunk\u001b[0m\u001b[0;34m,\u001b[0m \u001b[0;36m0\u001b[0m\u001b[0;34m,\u001b[0m \u001b[0md_chunk\u001b[0m\u001b[0;34m)\u001b[0m\u001b[0;34m\u001b[0m\u001b[0m\n",
      "\u001b[0;32m/anaconda3/lib/python3.6/site-packages/sklearn/utils/extmath.py\u001b[0m in \u001b[0;36mrow_norms\u001b[0;34m(X, squared)\u001b[0m\n\u001b[1;32m     61\u001b[0m     \u001b[0mPerforms\u001b[0m \u001b[0mno\u001b[0m \u001b[0minput\u001b[0m \u001b[0mvalidation\u001b[0m\u001b[0;34m.\u001b[0m\u001b[0;34m\u001b[0m\u001b[0m\n\u001b[1;32m     62\u001b[0m     \"\"\"\n\u001b[0;32m---> 63\u001b[0;31m     \u001b[0;32mif\u001b[0m \u001b[0missparse\u001b[0m\u001b[0;34m(\u001b[0m\u001b[0mX\u001b[0m\u001b[0;34m)\u001b[0m\u001b[0;34m:\u001b[0m\u001b[0;34m\u001b[0m\u001b[0m\n\u001b[0m\u001b[1;32m     64\u001b[0m         \u001b[0;32mif\u001b[0m \u001b[0;32mnot\u001b[0m \u001b[0misinstance\u001b[0m\u001b[0;34m(\u001b[0m\u001b[0mX\u001b[0m\u001b[0;34m,\u001b[0m \u001b[0mcsr_matrix\u001b[0m\u001b[0;34m)\u001b[0m\u001b[0;34m:\u001b[0m\u001b[0;34m\u001b[0m\u001b[0m\n\u001b[1;32m     65\u001b[0m             \u001b[0mX\u001b[0m \u001b[0;34m=\u001b[0m \u001b[0mcsr_matrix\u001b[0m\u001b[0;34m(\u001b[0m\u001b[0mX\u001b[0m\u001b[0;34m)\u001b[0m\u001b[0;34m\u001b[0m\u001b[0m\n",
      "\u001b[0;32m/anaconda3/lib/python3.6/site-packages/scipy/sparse/base.py\u001b[0m in \u001b[0;36misspmatrix\u001b[0;34m(x)\u001b[0m\n\u001b[1;32m   1215\u001b[0m     \u001b[0;32mFalse\u001b[0m\u001b[0;34m\u001b[0m\u001b[0m\n\u001b[1;32m   1216\u001b[0m     \"\"\"\n\u001b[0;32m-> 1217\u001b[0;31m     \u001b[0;32mreturn\u001b[0m \u001b[0misinstance\u001b[0m\u001b[0;34m(\u001b[0m\u001b[0mx\u001b[0m\u001b[0;34m,\u001b[0m \u001b[0mspmatrix\u001b[0m\u001b[0;34m)\u001b[0m\u001b[0;34m\u001b[0m\u001b[0m\n\u001b[0m\u001b[1;32m   1218\u001b[0m \u001b[0;34m\u001b[0m\u001b[0m\n\u001b[1;32m   1219\u001b[0m \u001b[0;34m\u001b[0m\u001b[0m\n",
      "\u001b[0;31mKeyboardInterrupt\u001b[0m: "
     ]
    }
   ],
   "source": [
    "#trying with different cluster sizes to choose the right k in K-Means\n",
    "coords = frame_with_durations_outliers_removed[['pickup_latitude','pickup_longitude']].values\n",
    "neighbours = []\n",
    "\n",
    "def find_min_distance(cluster_centers, cluster_len) :\n",
    "    pos_points = 0\n",
    "    neg_points = 0\n",
    "    less2 = []\n",
    "    more2 = []\n",
    "    min_dist = 1000\n",
    "    for i in range(0,cluster_len) :\n",
    "        pos_points = 0\n",
    "        neg_points = 0\n",
    "        for j in range(0,cluster_len) :\n",
    "            if j != i :\n",
    "                distance = gpxpy.geo.haversine_distance(cluster_centers[i][0],cluster_centers[i][1],cluster_centers[j][0],cluster_centers[j][1])\n",
    "                min_dist = min(min_dist,distance / (1.60934 * 1000))\n",
    "                if (distance / (1.60934 * 1000)) <= 2 :\n",
    "                    pos_points += 1\n",
    "                else :\n",
    "                    neg_points += 1\n",
    "        less2.append(pos_points)\n",
    "        more2.append(neg_points)\n",
    "    neighbours.append(less2)\n",
    "    print(\"On choosing a cluster size of \",cluster_len,\"\\nAvg. number of clusters within the vicinity (i.e. intercluster distance < 2) : \", np.ceil(sum(less2)/len(less2)),\\\n",
    "            \"\\nAvg. number of clusters outside the vicinity (i.e. intercluster distance > 2) : \",np.ceil(sum(more2)/len(more2)), \\\n",
    "             \"\\nMin inter-cluster distance = \", min_dist, \"\\n-----\")\n",
    "    \n",
    "def find_clusters(k) :\n",
    "    kmeans = MiniBatchKMeans(n_clusters = k, batch_size = 10000,random_state = 42).fit(coords)\n",
    "    frame_with_durations_outliers_removed['pickup_cluster'] = kmeans.predict(frame_with_durations_outliers_removed[['pickup_latitude','pickup_longitude']])\n",
    "    cluster_centers = kmeans.cluster_centers_\n",
    "    cluster_len = len(cluster_centers)\n",
    "    return cluster_centers,cluster_len\n",
    "\n",
    "for i in range(10,100,10) :\n",
    "    cluster_centers,cluster_len = find_clusters(i)\n",
    "    find_min_distance(cluster_centers,cluster_len)"
   ]
  },
  {
   "cell_type": "code",
   "execution_count": 20,
   "metadata": {
    "collapsed": true
   },
   "outputs": [],
   "source": [
    "#temporary\n",
    "coords = jan_2015_frame[['pickup_latitude','pickup_longitude']].values"
   ]
  },
  {
   "cell_type": "code",
   "execution_count": 13,
   "metadata": {
    "collapsed": true
   },
   "outputs": [],
   "source": [
    "#choosing k = 40 for sloving the further problem\n",
    "kmeans = MiniBatchKMeans(n_clusters = 40, batch_size = 10000, random_state = 0).fit(coords)\n",
    "#frame_with_durations_outliers_removed['pickup_cluster'] = kmeans.predict(frame_with_durations_outliers_removed[['pickup_latitude', 'pickup_longitude']])"
   ]
  },
  {
   "cell_type": "code",
   "execution_count": 20,
   "metadata": {},
   "outputs": [
    {
     "data": {
      "text/html": [
       "<div style=\"width:100%;\"><div style=\"position:relative;width:100%;height:0;padding-bottom:60%;\"><iframe src=\"data:text/html;charset=utf-8;base64,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\" style=\"position:absolute;width:100%;height:100%;left:0;top:0;border:none !important;\" allowfullscreen webkitallowfullscreen mozallowfullscreen></iframe></div></div>"
      ],
      "text/plain": [
       "<folium.folium.Map at 0x1c1572c390>"
      ]
     },
     "execution_count": 20,
     "metadata": {},
     "output_type": "execute_result"
    }
   ],
   "source": [
    "# Plotting the cluster centers on OSM\n",
    "cluster_centers = kmeans.cluster_centers_\n",
    "cluster_len = len(cluster_centers)\n",
    "map_osm = folium.Map(location=[40.734695, -73.990372], tiles='Stamen Toner')\n",
    "for i in range(cluster_len):\n",
    "    folium.Marker(list((cluster_centers[i][0],cluster_centers[i][1])), popup=(str(cluster_centers[i][0])+str(cluster_centers[i][1]))).add_to(map_osm)\n",
    "map_osm"
   ]
  },
  {
   "cell_type": "code",
   "execution_count": 21,
   "metadata": {},
   "outputs": [
    {
     "data": {
      "image/png": "[encoded data removed]",
      "text/plain": [
       "<matplotlib.figure.Figure at 0x1c21ac96d8>"
      ]
     },
     "metadata": {},
     "output_type": "display_data"
    }
   ],
   "source": [
    "#Visualising the clusters on the map\n",
    "def plot_clusters(frame) :\n",
    "    city_long_border = (-74.03,-73.75)\n",
    "    city_lat_border = (40.63,40.85)\n",
    "    fig, ax = plt.subplots(ncols = 1, nrows = 1)\n",
    "    ax.scatter(frame.pickup_longitude.values[:100000], frame.pickup_latitude.values[:100000], s=10, lw=0,\n",
    "               c=frame.pickup_cluster.values[:100000], cmap='tab20', alpha=0.2)\n",
    "    ax.set_xlim(city_long_border)\n",
    "    ax.set_ylim(city_lat_border)\n",
    "    ax.set_xlabel('Longitude')\n",
    "    ax.set_ylabel('Latitude')\n",
    "    plt.show()\n",
    "\n",
    "plot_clusters(frame_with_durations_outliers_removed)"
   ]
  },
  {
   "cell_type": "markdown",
   "metadata": {},
   "source": [
    "# Time-Binning"
   ]
  },
  {
   "cell_type": "code",
   "execution_count": 14,
   "metadata": {
    "collapsed": true
   },
   "outputs": [],
   "source": [
    "#Refer:https://www.unixtimestamp.com/\n",
    "# 1420070400 : 2015-01-01 00:00:00 \n",
    "# 1422748800 : 2015-02-01 00:00:00 \n",
    "# 1425168000 : 2015-03-01 00:00:00\n",
    "# 1427846400 : 2015-04-01 00:00:00 \n",
    "# 1430438400 : 2015-05-01 00:00:00 \n",
    "# 1433116800 : 2015-06-01 00:00:00\n",
    "\n",
    "# 1451606400 : 2016-01-01 00:00:00 \n",
    "# 1454284800 : 2016-02-01 00:00:00 \n",
    "# 1456790400 : 2016-03-01 00:00:00\n",
    "# 1459468800 : 2016-04-01 00:00:00 \n",
    "# 1462060800 : 2016-05-01 00:00:00 \n",
    "# 1464739200 : 2016-06-01 00:00:00\n",
    "\n",
    "def add_pickup_bins(frame,month,year):\n",
    "    unix_pickup_times=[i for i in frame['pickup_times'].values]\n",
    "    unix_times = [[1420070400,1422748800,1425168000,1427846400,1430438400,1433116800],\\\n",
    "                    [1451606400,1454284800,1456790400,1459468800,1462060800,1464739200]]\n",
    "    \n",
    "    start_pickup_unix=unix_times[year-2015][month-1]\n",
    "    # https://www.timeanddate.com/time/zones/est\n",
    "    # (int((i-start_pickup_unix)/600)+33) : our unix time is in gmt to we are converting it to est\n",
    "    tenminutewise_binned_unix_pickup_times=[(int((i-start_pickup_unix)/600)+33) for i in unix_pickup_times]\n",
    "    frame['pickup_bins'] = np.array(tenminutewise_binned_unix_pickup_times)\n",
    "    return frame"
   ]
  },
  {
   "cell_type": "code",
   "execution_count": 15,
   "metadata": {},
   "outputs": [
    {
     "data": {
      "text/html": [
       "<div>\n",
       "<style scoped>\n",
       "    .dataframe tbody tr th:only-of-type {\n",
       "        vertical-align: middle;\n",
       "    }\n",
       "\n",
       "    .dataframe tbody tr th {\n",
       "        vertical-align: top;\n",
       "    }\n",
       "\n",
       "    .dataframe thead th {\n",
       "        text-align: right;\n",
       "    }\n",
       "</style>\n",
       "<table border=\"1\" class=\"dataframe\">\n",
       "  <thead>\n",
       "    <tr style=\"text-align: right;\">\n",
       "      <th></th>\n",
       "      <th>passenger_count</th>\n",
       "      <th>trip_distance</th>\n",
       "      <th>pickup_longitude</th>\n",
       "      <th>pickup_latitude</th>\n",
       "      <th>dropoff_longitude</th>\n",
       "      <th>dropoff_latitude</th>\n",
       "      <th>total_amount</th>\n",
       "      <th>trip_times</th>\n",
       "      <th>pickup_times</th>\n",
       "      <th>Speed</th>\n",
       "      <th>pickup_cluster</th>\n",
       "      <th>pickup_bins</th>\n",
       "    </tr>\n",
       "  </thead>\n",
       "  <tbody>\n",
       "    <tr>\n",
       "      <th>0</th>\n",
       "      <td>1</td>\n",
       "      <td>1.59</td>\n",
       "      <td>-73.993896</td>\n",
       "      <td>40.750111</td>\n",
       "      <td>-73.974785</td>\n",
       "      <td>40.750618</td>\n",
       "      <td>17.05</td>\n",
       "      <td>18.050000</td>\n",
       "      <td>1.421329e+09</td>\n",
       "      <td>5.285319</td>\n",
       "      <td>34</td>\n",
       "      <td>2130</td>\n",
       "    </tr>\n",
       "    <tr>\n",
       "      <th>1</th>\n",
       "      <td>1</td>\n",
       "      <td>3.30</td>\n",
       "      <td>-74.001648</td>\n",
       "      <td>40.724243</td>\n",
       "      <td>-73.994415</td>\n",
       "      <td>40.759109</td>\n",
       "      <td>17.80</td>\n",
       "      <td>19.833333</td>\n",
       "      <td>1.420902e+09</td>\n",
       "      <td>9.983193</td>\n",
       "      <td>2</td>\n",
       "      <td>1419</td>\n",
       "    </tr>\n",
       "    <tr>\n",
       "      <th>2</th>\n",
       "      <td>1</td>\n",
       "      <td>1.80</td>\n",
       "      <td>-73.963341</td>\n",
       "      <td>40.802788</td>\n",
       "      <td>-73.951820</td>\n",
       "      <td>40.824413</td>\n",
       "      <td>10.80</td>\n",
       "      <td>10.050000</td>\n",
       "      <td>1.420902e+09</td>\n",
       "      <td>10.746269</td>\n",
       "      <td>16</td>\n",
       "      <td>1419</td>\n",
       "    </tr>\n",
       "    <tr>\n",
       "      <th>3</th>\n",
       "      <td>1</td>\n",
       "      <td>0.50</td>\n",
       "      <td>-74.009087</td>\n",
       "      <td>40.713818</td>\n",
       "      <td>-74.004326</td>\n",
       "      <td>40.719986</td>\n",
       "      <td>4.80</td>\n",
       "      <td>1.866667</td>\n",
       "      <td>1.420902e+09</td>\n",
       "      <td>16.071429</td>\n",
       "      <td>38</td>\n",
       "      <td>1419</td>\n",
       "    </tr>\n",
       "    <tr>\n",
       "      <th>4</th>\n",
       "      <td>1</td>\n",
       "      <td>3.00</td>\n",
       "      <td>-73.971176</td>\n",
       "      <td>40.762428</td>\n",
       "      <td>-74.004181</td>\n",
       "      <td>40.742653</td>\n",
       "      <td>16.30</td>\n",
       "      <td>19.316667</td>\n",
       "      <td>1.420902e+09</td>\n",
       "      <td>9.318378</td>\n",
       "      <td>22</td>\n",
       "      <td>1419</td>\n",
       "    </tr>\n",
       "  </tbody>\n",
       "</table>\n",
       "</div>"
      ],
      "text/plain": [
       "   passenger_count  trip_distance  pickup_longitude  pickup_latitude  \\\n",
       "0                1           1.59        -73.993896        40.750111   \n",
       "1                1           3.30        -74.001648        40.724243   \n",
       "2                1           1.80        -73.963341        40.802788   \n",
       "3                1           0.50        -74.009087        40.713818   \n",
       "4                1           3.00        -73.971176        40.762428   \n",
       "\n",
       "   dropoff_longitude  dropoff_latitude  total_amount  trip_times  \\\n",
       "0         -73.974785         40.750618         17.05   18.050000   \n",
       "1         -73.994415         40.759109         17.80   19.833333   \n",
       "2         -73.951820         40.824413         10.80   10.050000   \n",
       "3         -74.004326         40.719986          4.80    1.866667   \n",
       "4         -74.004181         40.742653         16.30   19.316667   \n",
       "\n",
       "   pickup_times      Speed  pickup_cluster  pickup_bins  \n",
       "0  1.421329e+09   5.285319              34         2130  \n",
       "1  1.420902e+09   9.983193               2         1419  \n",
       "2  1.420902e+09  10.746269              16         1419  \n",
       "3  1.420902e+09  16.071429              38         1419  \n",
       "4  1.420902e+09   9.318378              22         1419  "
      ]
     },
     "execution_count": 15,
     "metadata": {},
     "output_type": "execute_result"
    }
   ],
   "source": [
    "# clustering, making pickup bins and grouping by pickup cluster and pickup bins\n",
    "frame_with_durations_outliers_removed['pickup_cluster'] = kmeans.predict(frame_with_durations_outliers_removed[['pickup_latitude', 'pickup_longitude']])\n",
    "jan_2015_frame = add_pickup_bins(frame_with_durations_outliers_removed,1,2015)\n",
    "\n",
    "#we add two more columns 'pickup_cluster'(to which cluster it belongs to) and 'pickup_bins'(to which 10 min interval the trip belongs to)\n",
    "jan_2015_frame.head()"
   ]
  },
  {
   "cell_type": "code",
   "execution_count": null,
   "metadata": {
    "collapsed": true
   },
   "outputs": [],
   "source": [
    "jan_2015_frame.to_csv(\"aln.csv\", sep = ',')"
   ]
  },
  {
   "cell_type": "code",
   "execution_count": 16,
   "metadata": {},
   "outputs": [
    {
     "data": {
      "text/html": [
       "<div>\n",
       "<style scoped>\n",
       "    .dataframe tbody tr th:only-of-type {\n",
       "        vertical-align: middle;\n",
       "    }\n",
       "\n",
       "    .dataframe tbody tr th {\n",
       "        vertical-align: top;\n",
       "    }\n",
       "\n",
       "    .dataframe thead th {\n",
       "        text-align: right;\n",
       "    }\n",
       "</style>\n",
       "<table border=\"1\" class=\"dataframe\">\n",
       "  <thead>\n",
       "    <tr style=\"text-align: right;\">\n",
       "      <th></th>\n",
       "      <th></th>\n",
       "      <th>trip_distance</th>\n",
       "    </tr>\n",
       "    <tr>\n",
       "      <th>pickup_cluster</th>\n",
       "      <th>pickup_bins</th>\n",
       "      <th></th>\n",
       "    </tr>\n",
       "  </thead>\n",
       "  <tbody>\n",
       "    <tr>\n",
       "      <th rowspan=\"5\" valign=\"top\">0</th>\n",
       "      <th>1</th>\n",
       "      <td>105</td>\n",
       "    </tr>\n",
       "    <tr>\n",
       "      <th>2</th>\n",
       "      <td>199</td>\n",
       "    </tr>\n",
       "    <tr>\n",
       "      <th>3</th>\n",
       "      <td>208</td>\n",
       "    </tr>\n",
       "    <tr>\n",
       "      <th>4</th>\n",
       "      <td>141</td>\n",
       "    </tr>\n",
       "    <tr>\n",
       "      <th>5</th>\n",
       "      <td>155</td>\n",
       "    </tr>\n",
       "  </tbody>\n",
       "</table>\n",
       "</div>"
      ],
      "text/plain": [
       "                            trip_distance\n",
       "pickup_cluster pickup_bins               \n",
       "0              1                      105\n",
       "               2                      199\n",
       "               3                      208\n",
       "               4                      141\n",
       "               5                      155"
      ]
     },
     "execution_count": 16,
     "metadata": {},
     "output_type": "execute_result"
    }
   ],
   "source": [
    "#trip_distance represent the number of pickups that happened in that particular 10min interval\n",
    "#this dataframe has two indices\n",
    "#primary index : pickup_cluster (cluster number) & secondary index : pickup_bins\n",
    "jan_2015_groupby = jan_2015_frame[['pickup_cluster','pickup_bins','trip_distance']].groupby(['pickup_cluster','pickup_bins']).count()\n",
    "jan_2015_groupby.head()"
   ]
  },
  {
   "cell_type": "markdown",
   "metadata": {},
   "source": [
    "We divide the whole months time into 10 min intervals (31 x 24 x 60 / 10 = 4464 bins)"
   ]
  },
  {
   "cell_type": "code",
   "execution_count": 17,
   "metadata": {},
   "outputs": [
    {
     "data": {
      "text/html": [
       "<div>\n",
       "<style scoped>\n",
       "    .dataframe tbody tr th:only-of-type {\n",
       "        vertical-align: middle;\n",
       "    }\n",
       "\n",
       "    .dataframe tbody tr th {\n",
       "        vertical-align: top;\n",
       "    }\n",
       "\n",
       "    .dataframe thead th {\n",
       "        text-align: right;\n",
       "    }\n",
       "</style>\n",
       "<table border=\"1\" class=\"dataframe\">\n",
       "  <thead>\n",
       "    <tr style=\"text-align: right;\">\n",
       "      <th></th>\n",
       "      <th>passenger_count</th>\n",
       "      <th>trip_distance</th>\n",
       "      <th>pickup_longitude</th>\n",
       "      <th>pickup_latitude</th>\n",
       "      <th>dropoff_longitude</th>\n",
       "      <th>dropoff_latitude</th>\n",
       "      <th>total_amount</th>\n",
       "      <th>trip_times</th>\n",
       "      <th>pickup_times</th>\n",
       "      <th>Speed</th>\n",
       "      <th>pickup_cluster</th>\n",
       "      <th>pickup_bins</th>\n",
       "    </tr>\n",
       "  </thead>\n",
       "  <tbody>\n",
       "    <tr>\n",
       "      <th>0</th>\n",
       "      <td>1</td>\n",
       "      <td>1.59</td>\n",
       "      <td>-73.993896</td>\n",
       "      <td>40.750111</td>\n",
       "      <td>-73.974785</td>\n",
       "      <td>40.750618</td>\n",
       "      <td>17.05</td>\n",
       "      <td>18.050000</td>\n",
       "      <td>1.421329e+09</td>\n",
       "      <td>5.285319</td>\n",
       "      <td>34</td>\n",
       "      <td>2130</td>\n",
       "    </tr>\n",
       "    <tr>\n",
       "      <th>1</th>\n",
       "      <td>1</td>\n",
       "      <td>3.30</td>\n",
       "      <td>-74.001648</td>\n",
       "      <td>40.724243</td>\n",
       "      <td>-73.994415</td>\n",
       "      <td>40.759109</td>\n",
       "      <td>17.80</td>\n",
       "      <td>19.833333</td>\n",
       "      <td>1.420902e+09</td>\n",
       "      <td>9.983193</td>\n",
       "      <td>2</td>\n",
       "      <td>1419</td>\n",
       "    </tr>\n",
       "    <tr>\n",
       "      <th>2</th>\n",
       "      <td>1</td>\n",
       "      <td>1.80</td>\n",
       "      <td>-73.963341</td>\n",
       "      <td>40.802788</td>\n",
       "      <td>-73.951820</td>\n",
       "      <td>40.824413</td>\n",
       "      <td>10.80</td>\n",
       "      <td>10.050000</td>\n",
       "      <td>1.420902e+09</td>\n",
       "      <td>10.746269</td>\n",
       "      <td>16</td>\n",
       "      <td>1419</td>\n",
       "    </tr>\n",
       "    <tr>\n",
       "      <th>3</th>\n",
       "      <td>1</td>\n",
       "      <td>0.50</td>\n",
       "      <td>-74.009087</td>\n",
       "      <td>40.713818</td>\n",
       "      <td>-74.004326</td>\n",
       "      <td>40.719986</td>\n",
       "      <td>4.80</td>\n",
       "      <td>1.866667</td>\n",
       "      <td>1.420902e+09</td>\n",
       "      <td>16.071429</td>\n",
       "      <td>38</td>\n",
       "      <td>1419</td>\n",
       "    </tr>\n",
       "    <tr>\n",
       "      <th>4</th>\n",
       "      <td>1</td>\n",
       "      <td>3.00</td>\n",
       "      <td>-73.971176</td>\n",
       "      <td>40.762428</td>\n",
       "      <td>-74.004181</td>\n",
       "      <td>40.742653</td>\n",
       "      <td>16.30</td>\n",
       "      <td>19.316667</td>\n",
       "      <td>1.420902e+09</td>\n",
       "      <td>9.318378</td>\n",
       "      <td>22</td>\n",
       "      <td>1419</td>\n",
       "    </tr>\n",
       "  </tbody>\n",
       "</table>\n",
       "</div>"
      ],
      "text/plain": [
       "   passenger_count  trip_distance  pickup_longitude  pickup_latitude  \\\n",
       "0                1           1.59        -73.993896        40.750111   \n",
       "1                1           3.30        -74.001648        40.724243   \n",
       "2                1           1.80        -73.963341        40.802788   \n",
       "3                1           0.50        -74.009087        40.713818   \n",
       "4                1           3.00        -73.971176        40.762428   \n",
       "\n",
       "   dropoff_longitude  dropoff_latitude  total_amount  trip_times  \\\n",
       "0         -73.974785         40.750618         17.05   18.050000   \n",
       "1         -73.994415         40.759109         17.80   19.833333   \n",
       "2         -73.951820         40.824413         10.80   10.050000   \n",
       "3         -74.004326         40.719986          4.80    1.866667   \n",
       "4         -74.004181         40.742653         16.30   19.316667   \n",
       "\n",
       "   pickup_times      Speed  pickup_cluster  pickup_bins  \n",
       "0  1.421329e+09   5.285319              34         2130  \n",
       "1  1.420902e+09   9.983193               2         1419  \n",
       "2  1.420902e+09  10.746269              16         1419  \n",
       "3  1.420902e+09  16.071429              38         1419  \n",
       "4  1.420902e+09   9.318378              22         1419  "
      ]
     },
     "execution_count": 17,
     "metadata": {},
     "output_type": "execute_result"
    }
   ],
   "source": [
    "jan_2015_frame = pd.read_csv('aln.csv')\n",
    "jan_2015_frame.drop(jan_2015_frame.columns[0],axis = 1,inplace = True)\n",
    "jan_2015_frame.head()"
   ]
  },
  {
   "cell_type": "markdown",
   "metadata": {},
   "source": [
    "# Data Preperation"
   ]
  },
  {
   "cell_type": "code",
   "execution_count": 18,
   "metadata": {},
   "outputs": [
    {
     "name": "stdout",
     "output_type": "stream",
     "text": [
      "<class 'pandas.core.frame.DataFrame'>\n",
      "<class 'list'>\n",
      "Removing outliers...\n",
      "Number of pickup records =  10906858\n",
      "Number of outlier coordinates lying outside NY boundaries: 214677\n",
      "Number of outliers from trip times analysis: 27190\n",
      "Number of outliers from trip distance analysis: 79742\n",
      "Number of outliers from speed analysis: 31018\n",
      "Number of outliers from fare analysis: 4991\n",
      "Total outliers removed 297784\n",
      "---\n",
      "Estimating clusters...\n",
      "Final groupbying...\n"
     ]
    }
   ],
   "source": [
    "#data preperation for the months of Jan,Feb and March 2016\n",
    "def datapreparation(month,kmeans,month_no,year_no):\n",
    "    frame_with_durations = return_with_trip_times(month)\n",
    "    print(\"Removing outliers...\")\n",
    "    frame_with_durations_outliers_removed = remove_outliers(frame_with_durations)\n",
    "    \n",
    "    print(\"Estimating clusters...\")\n",
    "    frame_with_durations_outliers_removed['pickup_cluster'] = kmeans.predict(frame_with_durations_outliers_removed[['pickup_latitude','pickup_longitude']])\n",
    "    \n",
    "    print(\"Final groupbying...\")\n",
    "    final_updated_frame = add_pickup_bins(frame_with_durations_outliers_removed,month_no,year_no)\n",
    "    final_groupby_frame = final_updated_frame[['pickup_cluster','pickup_bins','trip_distance']].groupby(['pickup_cluster','pickup_bins']).count()\n",
    "    \n",
    "    return final_updated_frame,final_groupby_frame\n",
    "    \n",
    "#loading jan_2016 data and preparing the data\n",
    "month_jan_2016 = dd.read_csv('yellow_tripdata_2016-01.csv')\n",
    "jan_2016_frame,jan_2016_groupby = datapreparation(month_jan_2016,kmeans,1,2016)"
   ]
  },
  {
   "cell_type": "code",
   "execution_count": 19,
   "metadata": {},
   "outputs": [
    {
     "name": "stdout",
     "output_type": "stream",
     "text": [
      "<class 'pandas.core.frame.DataFrame'>\n",
      "<class 'list'>\n",
      "Removing outliers...\n",
      "Number of pickup records =  11382049\n",
      "Number of outlier coordinates lying outside NY boundaries: 223161\n",
      "Number of outliers from trip times analysis: 27670\n",
      "Number of outliers from trip distance analysis: 81902\n",
      "Number of outliers from speed analysis: 31866\n",
      "Number of outliers from fare analysis: 5476\n",
      "Total outliers removed 308177\n",
      "---\n",
      "Estimating clusters...\n",
      "Final groupbying...\n"
     ]
    }
   ],
   "source": [
    "#loading feb_2016 data and preparing the data\n",
    "month_feb_2016 = dd.read_csv('yellow_tripdata_2016-02.csv')\n",
    "feb_2016_frame,feb_2016_groupby = datapreparation(month_feb_2016,kmeans,2,2016)"
   ]
  },
  {
   "cell_type": "code",
   "execution_count": 20,
   "metadata": {},
   "outputs": [
    {
     "name": "stdout",
     "output_type": "stream",
     "text": [
      "<class 'pandas.core.frame.DataFrame'>\n",
      "<class 'list'>\n",
      "Removing outliers...\n",
      "Number of pickup records =  12210952\n",
      "Number of outlier coordinates lying outside NY boundaries: 232444\n",
      "Number of outliers from trip times analysis: 30868\n",
      "Number of outliers from trip distance analysis: 87318\n",
      "Number of outliers from speed analysis: 33076\n",
      "Number of outliers from fare analysis: 5859\n",
      "Total outliers removed 324635\n",
      "---\n",
      "Estimating clusters...\n",
      "Final groupbying...\n"
     ]
    }
   ],
   "source": [
    "#loading mar_2016 data and preparing the data\n",
    "month_mar_2016 = dd.read_csv('yellow_tripdata_2016-03.csv')\n",
    "mar_2016_frame,mar_2016_groupby = datapreparation(month_mar_2016,kmeans,3,2016)"
   ]
  },
  {
   "cell_type": "markdown",
   "metadata": {},
   "source": [
    "## Smoothing"
   ]
  },
  {
   "cell_type": "code",
   "execution_count": 21,
   "metadata": {
    "collapsed": true
   },
   "outputs": [],
   "source": [
    "#there are some pickup_bins for which there are no pickups that is why smoothing is required\n",
    "#returning the unique bins where pickup values are present for each cluster\n",
    "def return_unq_pickup_bins(frame):\n",
    "    values = []\n",
    "    for i in range(0,40):\n",
    "        new = frame[frame['pickup_cluster'] == i]\n",
    "        list_unq = list(set(new['pickup_bins']))\n",
    "        list_unq.sort()\n",
    "        values.append(list_unq)\n",
    "    return values"
   ]
  },
  {
   "cell_type": "code",
   "execution_count": 22,
   "metadata": {
    "collapsed": true
   },
   "outputs": [],
   "source": [
    "# for every month we get all indices of 10min intravels in which atleast one pickup got happened\n",
    "\n",
    "#jan\n",
    "jan_2015_unique = return_unq_pickup_bins(jan_2015_frame)\n",
    "jan_2016_unique = return_unq_pickup_bins(jan_2016_frame)\n",
    "\n",
    "#feb\n",
    "feb_2016_unique = return_unq_pickup_bins(feb_2016_frame)\n",
    "\n",
    "#march\n",
    "mar_2016_unique = return_unq_pickup_bins(mar_2016_frame)"
   ]
  },
  {
   "cell_type": "code",
   "execution_count": 23,
   "metadata": {},
   "outputs": [
    {
     "name": "stdout",
     "output_type": "stream",
     "text": [
      "for the  0 th cluster number of 10min intavels with zero pickups:  41\n",
      "------------------------------------------------------------\n",
      "for the  1 th cluster number of 10min intavels with zero pickups:  1986\n",
      "------------------------------------------------------------\n",
      "for the  2 th cluster number of 10min intavels with zero pickups:  30\n",
      "------------------------------------------------------------\n",
      "for the  3 th cluster number of 10min intavels with zero pickups:  355\n",
      "------------------------------------------------------------\n",
      "for the  4 th cluster number of 10min intavels with zero pickups:  38\n",
      "------------------------------------------------------------\n",
      "for the  5 th cluster number of 10min intavels with zero pickups:  154\n",
      "------------------------------------------------------------\n",
      "for the  6 th cluster number of 10min intavels with zero pickups:  35\n",
      "------------------------------------------------------------\n",
      "for the  7 th cluster number of 10min intavels with zero pickups:  34\n",
      "------------------------------------------------------------\n",
      "for the  8 th cluster number of 10min intavels with zero pickups:  118\n",
      "------------------------------------------------------------\n",
      "for the  9 th cluster number of 10min intavels with zero pickups:  41\n",
      "------------------------------------------------------------\n",
      "for the  10 th cluster number of 10min intavels with zero pickups:  26\n",
      "------------------------------------------------------------\n",
      "for the  11 th cluster number of 10min intavels with zero pickups:  45\n",
      "------------------------------------------------------------\n",
      "for the  12 th cluster number of 10min intavels with zero pickups:  43\n",
      "------------------------------------------------------------\n",
      "for the  13 th cluster number of 10min intavels with zero pickups:  29\n",
      "------------------------------------------------------------\n",
      "for the  14 th cluster number of 10min intavels with zero pickups:  27\n",
      "------------------------------------------------------------\n",
      "for the  15 th cluster number of 10min intavels with zero pickups:  32\n",
      "------------------------------------------------------------\n",
      "for the  16 th cluster number of 10min intavels with zero pickups:  41\n",
      "------------------------------------------------------------\n",
      "for the  17 th cluster number of 10min intavels with zero pickups:  59\n",
      "------------------------------------------------------------\n",
      "for the  18 th cluster number of 10min intavels with zero pickups:  1191\n",
      "------------------------------------------------------------\n",
      "for the  19 th cluster number of 10min intavels with zero pickups:  1358\n",
      "------------------------------------------------------------\n",
      "for the  20 th cluster number of 10min intavels with zero pickups:  54\n",
      "------------------------------------------------------------\n",
      "for the  21 th cluster number of 10min intavels with zero pickups:  30\n",
      "------------------------------------------------------------\n",
      "for the  22 th cluster number of 10min intavels with zero pickups:  30\n",
      "------------------------------------------------------------\n",
      "for the  23 th cluster number of 10min intavels with zero pickups:  164\n",
      "------------------------------------------------------------\n",
      "for the  24 th cluster number of 10min intavels with zero pickups:  36\n",
      "------------------------------------------------------------\n",
      "for the  25 th cluster number of 10min intavels with zero pickups:  42\n",
      "------------------------------------------------------------\n",
      "for the  26 th cluster number of 10min intavels with zero pickups:  32\n",
      "------------------------------------------------------------\n",
      "for the  27 th cluster number of 10min intavels with zero pickups:  215\n",
      "------------------------------------------------------------\n",
      "for the  28 th cluster number of 10min intavels with zero pickups:  37\n",
      "------------------------------------------------------------\n",
      "for the  29 th cluster number of 10min intavels with zero pickups:  42\n",
      "------------------------------------------------------------\n",
      "for the  30 th cluster number of 10min intavels with zero pickups:  1181\n",
      "------------------------------------------------------------\n",
      "for the  31 th cluster number of 10min intavels with zero pickups:  43\n",
      "------------------------------------------------------------\n",
      "for the  32 th cluster number of 10min intavels with zero pickups:  45\n",
      "------------------------------------------------------------\n",
      "for the  33 th cluster number of 10min intavels with zero pickups:  44\n",
      "------------------------------------------------------------\n",
      "for the  34 th cluster number of 10min intavels with zero pickups:  40\n",
      "------------------------------------------------------------\n",
      "for the  35 th cluster number of 10min intavels with zero pickups:  43\n",
      "------------------------------------------------------------\n",
      "for the  36 th cluster number of 10min intavels with zero pickups:  37\n",
      "------------------------------------------------------------\n",
      "for the  37 th cluster number of 10min intavels with zero pickups:  322\n",
      "------------------------------------------------------------\n",
      "for the  38 th cluster number of 10min intavels with zero pickups:  37\n",
      "------------------------------------------------------------\n",
      "for the  39 th cluster number of 10min intavels with zero pickups:  44\n",
      "------------------------------------------------------------\n"
     ]
    }
   ],
   "source": [
    "# for each cluster number of 10min intravels with 0 pickups\n",
    "for i in range(40):\n",
    "    print(\"for the \",i,\"th cluster number of 10min intavels with zero pickups: \",4464 - len(set(jan_2015_unique[i])))\n",
    "    print('-'*60)"
   ]
  },
  {
   "cell_type": "code",
   "execution_count": 24,
   "metadata": {
    "collapsed": true
   },
   "outputs": [],
   "source": [
    "# Fills a value of zero for every bin where no pickup data is present \n",
    "# the count_values: number pickps that are happened in each region for each 10min intravel\n",
    "# there wont be any value if there are no picksups.\n",
    "# values: number of unique bins\n",
    "def fill_missing(count_values,values):\n",
    "    smoothed_regions=[]\n",
    "    ind=0\n",
    "    for r in range(0,40):\n",
    "        smoothed_bins=[]\n",
    "        for i in range(4464):\n",
    "            if i in values[r]:\n",
    "                smoothed_bins.append(count_values[ind])\n",
    "                ind+=1\n",
    "            else:\n",
    "                smoothed_bins.append(0)\n",
    "        smoothed_regions.extend(smoothed_bins)\n",
    "    return smoothed_regions"
   ]
  },
  {
   "cell_type": "code",
   "execution_count": 25,
   "metadata": {
    "collapsed": true
   },
   "outputs": [],
   "source": [
    "def smoothing(count_values,values):\n",
    "    smoothed_regions=[] # stores list of final smoothed values of each reigion\n",
    "    ind=0\n",
    "    repeat=0 \n",
    "    smoothed_value=0\n",
    "    for r in range(0,40):\n",
    "        smoothed_bins=[] #stores the final smoothed values\n",
    "        repeat=0\n",
    "        for i in range(4464):\n",
    "            if repeat!=0: # prevents iteration for a value which is already visited/resolved\n",
    "                repeat-=1\n",
    "                continue\n",
    "            if i in values[r]: #checks if the pickup-bin exists \n",
    "                smoothed_bins.append(count_values[ind]) # appends the value of the pickup bin if it exists\n",
    "            else:\n",
    "                if i!=0:\n",
    "                    right_hand_limit=0\n",
    "                    for j in range(i,4464):\n",
    "                        if  j not in values[r]: #searches for the left-limit or the pickup-bin value which has a pickup value\n",
    "                            continue\n",
    "                        else:\n",
    "                            right_hand_limit=j\n",
    "                            break\n",
    "                    if right_hand_limit==0:\n",
    "                    #Case 1: When we have the last/last few values are found to be missing,hence we have no right-limit here\n",
    "                        smoothed_value=count_values[ind-1]*1.0/((4463-i)+2)*1.0                               \n",
    "                        for j in range(i,4464):                              \n",
    "                            smoothed_bins.append(math.ceil(smoothed_value))\n",
    "                        smoothed_bins[i-1] = math.ceil(smoothed_value)\n",
    "                        repeat=(4463-i)\n",
    "                        ind-=1\n",
    "                    else:\n",
    "                    #Case 2: When we have the missing values between two known values\n",
    "                        smoothed_value=(count_values[ind-1]+count_values[ind])*1.0/((right_hand_limit-i)+2)*1.0             \n",
    "                        for j in range(i,right_hand_limit+1):\n",
    "                            smoothed_bins.append(math.ceil(smoothed_value))\n",
    "                        smoothed_bins[i-1] = math.ceil(smoothed_value)\n",
    "                        repeat=(right_hand_limit-i)\n",
    "                else:\n",
    "                    #Case 3: When we have the first/first few values are found to be missing,hence we have no left-limit here\n",
    "                    right_hand_limit=0\n",
    "                    for j in range(i,4464):\n",
    "                        if  j not in values[r]:\n",
    "                            continue\n",
    "                        else:\n",
    "                            right_hand_limit=j\n",
    "                            break\n",
    "                    smoothed_value=count_values[ind]*1.0/((right_hand_limit-i)+1)*1.0\n",
    "                    for j in range(i,right_hand_limit+1):\n",
    "                            smoothed_bins.append(math.ceil(smoothed_value))\n",
    "                    repeat=(right_hand_limit-i)\n",
    "            ind+=1\n",
    "        smoothed_regions.extend(smoothed_bins)\n",
    "    return smoothed_regions\n"
   ]
  },
  {
   "cell_type": "code",
   "execution_count": 26,
   "metadata": {
    "collapsed": true
   },
   "outputs": [],
   "source": [
    "#Filling Missing values of Jan-2015 with 0\n",
    "jan_2015_fill = fill_missing(jan_2015_groupby['trip_distance'].values,jan_2015_unique)\n",
    "\n",
    "#Smoothing Missing values of Jan-2015\n",
    "jan_2015_smooth = smoothing(jan_2015_groupby['trip_distance'].values,jan_2015_unique)"
   ]
  },
  {
   "cell_type": "code",
   "execution_count": 57,
   "metadata": {},
   "outputs": [
    {
     "name": "stdout",
     "output_type": "stream",
     "text": [
      "number of 10min intravels among all the clusters  178560\n"
     ]
    },
    {
     "data": {
      "image/png": "[encoded data removed]",
      "text/plain": [
       "<matplotlib.figure.Figure at 0x9d0fd1048>"
      ]
     },
     "metadata": {},
     "output_type": "display_data"
    }
   ],
   "source": [
    "print(\"number of 10min intravels among all the clusters \",len(jan_2015_fill))\n",
    "# Smoothing vs Filling\n",
    "# sample plot that shows two variations of filling missing values\n",
    "# we have taken the number of pickups for cluster region 2\n",
    "plt.figure(figsize=(10,5))\n",
    "plt.plot(jan_2015_fill[4464:8920], label=\"zero filled values\")\n",
    "plt.plot(jan_2015_smooth[4464:8920], label=\"filled with avg values\")\n",
    "plt.legend()\n",
    "plt.show()"
   ]
  },
  {
   "cell_type": "code",
   "execution_count": 27,
   "metadata": {
    "collapsed": true
   },
   "outputs": [],
   "source": [
    "# Jan-2015 data is smoothed, Jan,Feb & March 2016 data missing values are filled with zero\n",
    "jan_2015_smooth = smoothing(jan_2015_groupby['trip_distance'].values,jan_2015_unique)\n",
    "jan_2016_smooth = fill_missing(jan_2016_groupby['trip_distance'].values,jan_2016_unique)\n",
    "feb_2016_smooth = fill_missing(feb_2016_groupby['trip_distance'].values,feb_2016_unique)\n",
    "mar_2016_smooth = fill_missing(mar_2016_groupby['trip_distance'].values,mar_2016_unique)"
   ]
  },
  {
   "cell_type": "code",
   "execution_count": 29,
   "metadata": {},
   "outputs": [
    {
     "name": "stdout",
     "output_type": "stream",
     "text": [
      "(178560,)\n"
     ]
    }
   ],
   "source": [
    "jan_2016 = np.array(jan_2016_smooth)\n",
    "print(jan_2016.shape)"
   ]
  },
  {
   "cell_type": "code",
   "execution_count": 35,
   "metadata": {
    "collapsed": true
   },
   "outputs": [],
   "source": [
    "jan_2015_smooth_df = pd.DataFrame(jan_2015_smooth)\n",
    "jan_2016_smooth_df = pd.DataFrame(jan_2016_smooth)\n",
    "feb_2016_smooth_df = pd.DataFrame(feb_2016_smooth)\n",
    "mar_2016_smooth_df = pd.DataFrame(mar_2016_smooth)\n",
    "jan_2015_smooth_df.to_csv('jan_2015_smooth.csv', sep = ',')\n",
    "jan_2016_smooth_df.to_csv('jan_2016_smooth.csv', sep = ',')\n",
    "feb_2016_smooth_df.to_csv('feb_2016_smooth.csv', sep = ',')\n",
    "mar_2016_smooth_df.to_csv('mar_2016_smooth.csv', sep = ',')"
   ]
  },
  {
   "cell_type": "code",
   "execution_count": null,
   "metadata": {
    "collapsed": true
   },
   "outputs": [],
   "source": []
  },
  {
   "cell_type": "markdown",
   "metadata": {},
   "source": [
    "# Modeling"
   ]
  },
  {
   "cell_type": "markdown",
   "metadata": {},
   "source": [
    "## Baseline Models"
   ]
  },
  {
   "cell_type": "code",
   "execution_count": 59,
   "metadata": {
    "collapsed": true
   },
   "outputs": [],
   "source": [
    "#Preparing the Dataframe only with x(i) values as jan-2015 data and y(i) values as jan-2016\n",
    "ratios_jan = pd.DataFrame()\n",
    "ratios_jan['Given']=jan_2015_smooth\n",
    "ratios_jan['Prediction']=jan_2016_smooth\n",
    "ratios_jan['Ratios']=ratios_jan['Prediction']*1.0/ratios_jan['Given']*1.0"
   ]
  },
  {
   "cell_type": "markdown",
   "metadata": {},
   "source": [
    "## Simple Moving Average\n",
    "#### Using Ratios"
   ]
  },
  {
   "cell_type": "code",
   "execution_count": 60,
   "metadata": {
    "collapsed": true
   },
   "outputs": [],
   "source": [
    "## Simple Moving average\n",
    "def MA_R_Predictions(ratios,month):\n",
    "    predicted_ratio=(ratios['Ratios'].values)[0]\n",
    "    error=[]\n",
    "    predicted_values=[]\n",
    "    window_size=3\n",
    "    predicted_ratio_values=[]\n",
    "    for i in range(0,4464*40):\n",
    "        if i%4464==0:\n",
    "            predicted_ratio_values.append(0)\n",
    "            predicted_values.append(0)\n",
    "            error.append(0)\n",
    "            continue\n",
    "        predicted_ratio_values.append(predicted_ratio)\n",
    "        predicted_values.append(int(((ratios['Given'].values)[i])*predicted_ratio))\n",
    "        error.append(abs((math.pow(int(((ratios['Given'].values)[i])*predicted_ratio)-(ratios['Prediction'].values)[i],1))))\n",
    "        if i+1>=window_size:\n",
    "            predicted_ratio=sum((ratios['Ratios'].values)[(i+1)-window_size:(i+1)])/window_size\n",
    "        else:\n",
    "            predicted_ratio=sum((ratios['Ratios'].values)[0:(i+1)])/(i+1)\n",
    "            \n",
    "    \n",
    "    ratios['MA_R_Predicted'] = predicted_values\n",
    "    ratios['MA_R_Error'] = error\n",
    "    mape_err = (sum(error)/len(error))/(sum(ratios['Prediction'].values)/len(ratios['Prediction'].values))\n",
    "    mse_err = sum([e**2 for e in error])/len(error)\n",
    "    return ratios,mape_err,mse_err"
   ]
  },
  {
   "cell_type": "markdown",
   "metadata": {},
   "source": [
    "#### Using Previous Values"
   ]
  },
  {
   "cell_type": "code",
   "execution_count": 61,
   "metadata": {
    "collapsed": true
   },
   "outputs": [],
   "source": [
    "def MA_P_Predictions(ratios,month):\n",
    "    predicted_value=(ratios['Prediction'].values)[0]\n",
    "    error=[]\n",
    "    predicted_values=[]\n",
    "    window_size=1\n",
    "    predicted_ratio_values=[]\n",
    "    for i in range(0,4464*40):\n",
    "        predicted_values.append(predicted_value)\n",
    "        error.append(abs((math.pow(predicted_value-(ratios['Prediction'].values)[i],1))))\n",
    "        if i+1>=window_size:\n",
    "            predicted_value=int(sum((ratios['Prediction'].values)[(i+1)-window_size:(i+1)])/window_size)\n",
    "        else:\n",
    "            predicted_value=int(sum((ratios['Prediction'].values)[0:(i+1)])/(i+1))\n",
    "            \n",
    "    ratios['MA_P_Predicted'] = predicted_values\n",
    "    ratios['MA_P_Error'] = error\n",
    "    mape_err = (sum(error)/len(error))/(sum(ratios['Prediction'].values)/len(ratios['Prediction'].values))\n",
    "    mse_err = sum([e**2 for e in error])/len(error)\n",
    "    return ratios,mape_err,mse_err"
   ]
  },
  {
   "cell_type": "markdown",
   "metadata": {},
   "source": [
    "## Weighted Moving Average"
   ]
  },
  {
   "cell_type": "markdown",
   "metadata": {},
   "source": [
    "#### Using Ratios"
   ]
  },
  {
   "cell_type": "code",
   "execution_count": 62,
   "metadata": {
    "collapsed": true
   },
   "outputs": [],
   "source": [
    "def WA_R_Predictions(ratios,month):\n",
    "    predicted_ratio=(ratios['Ratios'].values)[0]\n",
    "    error=[]\n",
    "    predicted_values=[]\n",
    "    window_size=5\n",
    "    predicted_ratio_values=[]\n",
    "    for i in range(0,4464*40):\n",
    "        if i%4464==0:\n",
    "            predicted_ratio_values.append(0)\n",
    "            predicted_values.append(0)\n",
    "            error.append(0)\n",
    "            continue\n",
    "        predicted_ratio_values.append(predicted_ratio)\n",
    "        predicted_values.append(int(((ratios['Given'].values)[i])*predicted_ratio))\n",
    "        error.append(abs((math.pow(int(((ratios['Given'].values)[i])*predicted_ratio)-(ratios['Prediction'].values)[i],1))))\n",
    "        if i+1>=window_size:\n",
    "            sum_values=0\n",
    "            sum_of_coeff=0\n",
    "            for j in range(window_size,0,-1):\n",
    "                sum_values += j*(ratios['Ratios'].values)[i-window_size+j]\n",
    "                sum_of_coeff+=j\n",
    "            predicted_ratio=sum_values/sum_of_coeff\n",
    "        else:\n",
    "            sum_values=0\n",
    "            sum_of_coeff=0\n",
    "            for j in range(i+1,0,-1):\n",
    "                sum_values += j*(ratios['Ratios'].values)[j-1]\n",
    "                sum_of_coeff+=j\n",
    "            predicted_ratio=sum_values/sum_of_coeff\n",
    "            \n",
    "    ratios['WA_R_Predicted'] = predicted_values\n",
    "    ratios['WA_R_Error'] = error\n",
    "    mape_err = (sum(error)/len(error))/(sum(ratios['Prediction'].values)/len(ratios['Prediction'].values))\n",
    "    mse_err = sum([e**2 for e in error])/len(error)\n",
    "    return ratios,mape_err,mse_err"
   ]
  },
  {
   "cell_type": "markdown",
   "metadata": {},
   "source": [
    "#### Using Previous Values"
   ]
  },
  {
   "cell_type": "code",
   "execution_count": 63,
   "metadata": {
    "collapsed": true
   },
   "outputs": [],
   "source": [
    "def WA_P_Predictions(ratios,month):\n",
    "    predicted_value=(ratios['Prediction'].values)[0]\n",
    "    error=[]\n",
    "    predicted_values=[]\n",
    "    window_size=2\n",
    "    for i in range(0,4464*40):\n",
    "        predicted_values.append(predicted_value)\n",
    "        error.append(abs((math.pow(predicted_value-(ratios['Prediction'].values)[i],1))))\n",
    "        if i+1>=window_size:\n",
    "            sum_values=0\n",
    "            sum_of_coeff=0\n",
    "            for j in range(window_size,0,-1):\n",
    "                sum_values += j*(ratios['Prediction'].values)[i-window_size+j]\n",
    "                sum_of_coeff+=j\n",
    "            predicted_value=int(sum_values/sum_of_coeff)\n",
    "\n",
    "        else:\n",
    "            sum_values=0\n",
    "            sum_of_coeff=0\n",
    "            for j in range(i+1,0,-1):\n",
    "                sum_values += j*(ratios['Prediction'].values)[j-1]\n",
    "                sum_of_coeff+=j\n",
    "            predicted_value=int(sum_values/sum_of_coeff)\n",
    "    \n",
    "    ratios['WA_P_Predicted'] = predicted_values\n",
    "    ratios['WA_P_Error'] = error\n",
    "    mape_err = (sum(error)/len(error))/(sum(ratios['Prediction'].values)/len(ratios['Prediction'].values))\n",
    "    mse_err = sum([e**2 for e in error])/len(error)\n",
    "    return ratios,mape_err,mse_err"
   ]
  },
  {
   "cell_type": "markdown",
   "metadata": {},
   "source": [
    "## Exponential Weighted Moving Average"
   ]
  },
  {
   "cell_type": "markdown",
   "metadata": {},
   "source": [
    "#### Using Ratios"
   ]
  },
  {
   "cell_type": "code",
   "execution_count": 64,
   "metadata": {
    "collapsed": true
   },
   "outputs": [],
   "source": [
    "def EA_R1_Predictions(ratios,month):\n",
    "    predicted_ratio=(ratios['Ratios'].values)[0]\n",
    "    alpha=0.6\n",
    "    error=[]\n",
    "    predicted_values=[]\n",
    "    predicted_ratio_values=[]\n",
    "    for i in range(0,4464*40):\n",
    "        if i%4464==0:\n",
    "            predicted_ratio_values.append(0)\n",
    "            predicted_values.append(0)\n",
    "            error.append(0)\n",
    "            continue\n",
    "        predicted_ratio_values.append(predicted_ratio)\n",
    "        predicted_values.append(int(((ratios['Given'].values)[i])*predicted_ratio))\n",
    "        error.append(abs((math.pow(int(((ratios['Given'].values)[i])*predicted_ratio)-(ratios['Prediction'].values)[i],1))))\n",
    "        predicted_ratio = (alpha*predicted_ratio) + (1-alpha)*((ratios['Ratios'].values)[i])\n",
    "    \n",
    "    ratios['EA_R1_Predicted'] = predicted_values\n",
    "    ratios['EA_R1_Error'] = error\n",
    "    mape_err = (sum(error)/len(error))/(sum(ratios['Prediction'].values)/len(ratios['Prediction'].values))\n",
    "    mse_err = sum([e**2 for e in error])/len(error)\n",
    "    return ratios,mape_err,mse_err"
   ]
  },
  {
   "cell_type": "markdown",
   "metadata": {},
   "source": [
    "#### Using Previous Values"
   ]
  },
  {
   "cell_type": "code",
   "execution_count": 65,
   "metadata": {
    "collapsed": true
   },
   "outputs": [],
   "source": [
    "def EA_P1_Predictions(ratios,month):\n",
    "    predicted_value= (ratios['Prediction'].values)[0]\n",
    "    alpha=0.3\n",
    "    error=[]\n",
    "    predicted_values=[]\n",
    "    for i in range(0,4464*40):\n",
    "        if i%4464==0:\n",
    "            predicted_values.append(0)\n",
    "            error.append(0)\n",
    "            continue\n",
    "        predicted_values.append(predicted_value)\n",
    "        error.append(abs((math.pow(predicted_value-(ratios['Prediction'].values)[i],1))))\n",
    "        predicted_value =int((alpha*predicted_value) + (1-alpha)*((ratios['Prediction'].values)[i]))\n",
    "    \n",
    "    ratios['EA_P1_Predicted'] = predicted_values\n",
    "    ratios['EA_P1_Error'] = error\n",
    "    mape_err = (sum(error)/len(error))/(sum(ratios['Prediction'].values)/len(ratios['Prediction'].values))\n",
    "    mse_err = sum([e**2 for e in error])/len(error)\n",
    "    return ratios,mape_err,mse_err"
   ]
  },
  {
   "cell_type": "code",
   "execution_count": 66,
   "metadata": {},
   "outputs": [
    {
     "name": "stdout",
     "output_type": "stream",
     "text": [
      "Error Metric Matrix (Forecasting Methods) - MAPE & MSE\n",
      "--------------------------------------------------------------------------------------------------------\n",
      "Moving Averages (Ratios) -                             MAPE:  0.1821155173392136       MSE:  400.0625504032258\n",
      "Moving Averages (2016 Values) -                        MAPE:  0.14292849686975506        MSE:  174.84901993727598\n",
      "--------------------------------------------------------------------------------------------------------\n",
      "Weighted Moving Averages (Ratios) -                    MAPE:  0.1784869254376018       MSE:  384.01578741039424\n",
      "Weighted Moving Averages (2016 Values) -               MAPE:  0.13551088436182082       MSE:  162.46707549283155\n",
      "--------------------------------------------------------------------------------------------------------\n",
      "Exponential Moving Averages (Ratios) -              MAPE:  0.17783550194861494       MSE:  378.34610215053766\n",
      "Exponential Moving Averages (2016 Values) -         MAPE:  0.1350915263669572       MSE:  159.73614471326164\n"
     ]
    }
   ],
   "source": [
    "mean_err=[0]*10\n",
    "median_err=[0]*10\n",
    "ratios_jan,mean_err[0],median_err[0]=MA_R_Predictions(ratios_jan,'jan')\n",
    "ratios_jan,mean_err[1],median_err[1]=MA_P_Predictions(ratios_jan,'jan')\n",
    "ratios_jan,mean_err[2],median_err[2]=WA_R_Predictions(ratios_jan,'jan')\n",
    "ratios_jan,mean_err[3],median_err[3]=WA_P_Predictions(ratios_jan,'jan')\n",
    "ratios_jan,mean_err[4],median_err[4]=EA_R1_Predictions(ratios_jan,'jan')\n",
    "ratios_jan,mean_err[5],median_err[5]=EA_P1_Predictions(ratios_jan,'jan')\n",
    "\n",
    "#comparing the baseline models\n",
    "print (\"Error Metric Matrix (Forecasting Methods) - MAPE & MSE\")\n",
    "print (\"--------------------------------------------------------------------------------------------------------\")\n",
    "print (\"Moving Averages (Ratios) -                             MAPE: \",mean_err[0],\"      MSE: \",median_err[0])\n",
    "print (\"Moving Averages (2016 Values) -                        MAPE: \",mean_err[1],\"       MSE: \",median_err[1])\n",
    "print (\"--------------------------------------------------------------------------------------------------------\")\n",
    "print (\"Weighted Moving Averages (Ratios) -                    MAPE: \",mean_err[2],\"      MSE: \",median_err[2])\n",
    "print (\"Weighted Moving Averages (2016 Values) -               MAPE: \",mean_err[3],\"      MSE: \",median_err[3])\n",
    "print (\"--------------------------------------------------------------------------------------------------------\")\n",
    "print (\"Exponential Moving Averages (Ratios) -              MAPE: \",mean_err[4],\"      MSE: \",median_err[4])\n",
    "print (\"Exponential Moving Averages (2016 Values) -         MAPE: \",mean_err[5],\"      MSE: \",median_err[5])"
   ]
  },
  {
   "cell_type": "code",
   "execution_count": 30,
   "metadata": {
    "collapsed": true
   },
   "outputs": [],
   "source": [
    "# Making list of all the values of pickup data in every bin for a period of 3 months and storing them region-wise \n",
    "regions_cum = []\n",
    "# number of 10min indices for jan 2016 = 24*31*60/10 = 4464\n",
    "# number of 10min indices for feb 2016 = 24*29*60/10 = 4176\n",
    "# number of 10min indices for march 2016 = 24*31*60/10 = 4464\n",
    "# regions_cum: it will contain 40 lists, each list will contain 4464+4176+4464 values which represents the number of pickups \n",
    "# that are happened for three months in 2016 data\n",
    "\n",
    "for i in range(0,40):\n",
    "    regions_cum.append(jan_2016_smooth[4464*i:4464*(i+1)]+feb_2016_smooth[4176*i:4176*(i+1)]+mar_2016_smooth[4464*i:4464*(i+1)])"
   ]
  },
  {
   "cell_type": "code",
   "execution_count": 41,
   "metadata": {},
   "outputs": [
    {
     "name": "stdout",
     "output_type": "stream",
     "text": [
      "178560\n"
     ]
    }
   ],
   "source": [
    "print(len(jan_2016_smooth))"
   ]
  },
  {
   "cell_type": "code",
   "execution_count": 31,
   "metadata": {},
   "outputs": [
    {
     "name": "stdout",
     "output_type": "stream",
     "text": [
      "40\n",
      "13104\n"
     ]
    }
   ],
   "source": [
    "print(len(regions_cum))\n",
    "print(len(regions_cum[0]))"
   ]
  },
  {
   "cell_type": "code",
   "execution_count": 176,
   "metadata": {},
   "outputs": [
    {
     "data": {
      "image/png": "[encoded data removed]",
      "text/plain": [
       "<matplotlib.figure.Figure at 0x125dc40b8>"
      ]
     },
     "metadata": {},
     "output_type": "display_data"
    },
    {
     "name": "stdout",
     "output_type": "stream",
     "text": [
      "(121826.78062703028, 31) (52806.64057259263, 62)\n",
      "0.006944444444444444 0.013888888888888888\n"
     ]
    }
   ],
   "source": [
    "amp_jan = np.abs(np.fft.fft(regions_cum[0][:4464]))\n",
    "freq_jan = np.abs(np.fft.fftfreq(4464,1))\n",
    "#np.sort(amp_jan)\n",
    "i = 0\n",
    "list_amp = []\n",
    "for amp in amp_jan :\n",
    "    list_amp.append((amp,i))\n",
    "    i = i + 1\n",
    "plt.plot(amp_jan)\n",
    "plt.show()\n",
    "list_amp.sort()\n",
    "print(list_amp[-2],list_amp[-4])\n",
    "print(freq_jan[list_amp[-2][1]],freq_jan[list_amp[-4][1]])"
   ]
  },
  {
   "cell_type": "code",
   "execution_count": 179,
   "metadata": {
    "collapsed": true
   },
   "outputs": [],
   "source": [
    "def create_list(amp_month) :\n",
    "    list_month = []\n",
    "    i = 0\n",
    "    for amp in amp_month :\n",
    "        list_month.append((amp,i))\n",
    "        i += 1\n",
    "    list_month.sort()\n",
    "    return list_month"
   ]
  },
  {
   "cell_type": "code",
   "execution_count": 181,
   "metadata": {},
   "outputs": [
    {
     "name": "stdout",
     "output_type": "stream",
     "text": [
      "40\n",
      "2\n",
      "40\n",
      "2\n"
     ]
    }
   ],
   "source": [
    "freq_jan = np.abs(np.fft.fftfreq(4464,1))\n",
    "freq_feb = np.abs(np.fft.fftfreq(4176,1))\n",
    "freq_mar = np.abs(np.fft.fftfreq(4464,1))\n",
    "amp_jan_list = []\n",
    "amp_feb_list = []\n",
    "amp_mar_list = []\n",
    "freq_jan_list = []\n",
    "freq_feb_list = []\n",
    "freq_mar_list = []\n",
    "for i in range(0,40) :\n",
    "    amp_jan = np.sort(np.abs(np.fft.fft(regions_cum[i][:4464])))\n",
    "    amp_feb = np.sort(np.abs(np.fft.fft(regions_cum[i][4464:8640])))\n",
    "    amp_mar = np.sort(np.abs(np.fft.fft(regions_cum[i][8640:])))\n",
    "    list_jan = create_list(amp_jan)\n",
    "    list_feb = create_list(amp_feb)\n",
    "    list_mar = create_list(amp_mar)\n",
    "    inner_list_amp_jan = []\n",
    "    inner_list_amp_feb = []\n",
    "    inner_list_amp_mar = []\n",
    "    inner_list_freq_jan = []\n",
    "    inner_list_freq_feb = []\n",
    "    inner_list_freq_mar = []\n",
    "    inner_list_amp_jan.append(list_jan[-2][0])\n",
    "    inner_list_amp_jan.append(list_jan[-4][0])\n",
    "    inner_list_amp_feb.append(list_feb[-2][0])\n",
    "    inner_list_amp_feb.append(list_feb[-4][0])\n",
    "    inner_list_amp_mar.append(list_mar[-2][0])\n",
    "    inner_list_amp_mar.append(list_mar[-4][0])\n",
    "    inner_list_freq_jan.append(freq_jan[list_jan[-2][1]])\n",
    "    inner_list_freq_jan.append(freq_jan[list_jan[-4][1]])\n",
    "    inner_list_freq_feb.append(freq_feb[list_feb[-2][1]])\n",
    "    inner_list_freq_feb.append(freq_feb[list_feb[-4][1]])\n",
    "    inner_list_freq_mar.append(freq_mar[list_mar[-2][1]])\n",
    "    inner_list_freq_mar.append(freq_mar[list_mar[-4][1]])\n",
    "    amp_jan_list.append(inner_list_amp_jan)\n",
    "    amp_feb_list.append(inner_list_amp_feb)\n",
    "    amp_mar_list.append(inner_list_amp_mar)\n",
    "    freq_jan_list.append(inner_list_freq_jan)\n",
    "    freq_feb_list.append(inner_list_freq_feb)\n",
    "    freq_mar_list.append(inner_list_freq_mar)\n",
    "print(len(amp_jan_list))\n",
    "print(len(amp_jan_list[0]))\n",
    "print(len(freq_jan_list))\n",
    "print(len(freq_jan_list[0]))"
   ]
  },
  {
   "cell_type": "code",
   "execution_count": 182,
   "metadata": {},
   "outputs": [
    {
     "name": "stdout",
     "output_type": "stream",
     "text": [
      "121826.78062703028\n",
      "0.00044802867383512545\n"
     ]
    }
   ],
   "source": [
    "print(amp_jan_list[0][0])\n",
    "print(freq_jan_list[0][0])"
   ]
  },
  {
   "cell_type": "code",
   "execution_count": 183,
   "metadata": {},
   "outputs": [
    {
     "name": "stdout",
     "output_type": "stream",
     "text": [
      "40\n",
      "13094\n"
     ]
    }
   ],
   "source": [
    "amp_1 = []\n",
    "amp_2 = []\n",
    "freq_1 = []\n",
    "freq_2 = []\n",
    "for i in range(0,40) :\n",
    "    inner_amp_1 = []\n",
    "    inner_amp_2 = []\n",
    "    inner_freq_1 = []\n",
    "    inner_freq_2 = []\n",
    "    inner_amp_1.append([amp_jan_list[i][0]]*4454)\n",
    "    inner_amp_2.append([amp_jan_list[i][1]]*4454)\n",
    "    inner_freq_1.append([freq_jan_list[i][0]]*4454)\n",
    "    inner_freq_2.append([freq_jan_list[i][1]]*4454)\n",
    "    inner_amp_1.append([amp_feb_list[i][0]]*4176)\n",
    "    inner_amp_2.append([amp_feb_list[i][1]]*4176)\n",
    "    inner_freq_1.append([freq_feb_list[i][0]]*4176)\n",
    "    inner_freq_2.append([freq_feb_list[i][1]]*4176)\n",
    "    inner_amp_1.append([amp_mar_list[i][0]]*4464)\n",
    "    inner_amp_2.append([amp_mar_list[i][1]]*4464)\n",
    "    inner_freq_1.append([freq_mar_list[i][0]]*4464)\n",
    "    inner_freq_2.append([freq_mar_list[i][1]]*4464)\n",
    "    amp_1.append(inner_amp_1)\n",
    "    amp_2.append(inner_amp_2)\n",
    "    freq_1.append(inner_freq_1)\n",
    "    freq_2.append(inner_freq_2)\n",
    "for i in range(0,40) :\n",
    "    amp_1[i] = sum(amp_1[i], [])\n",
    "    amp_2[i] = sum(amp_2[i], [])\n",
    "    freq_1[i] = sum(freq_1[i], [])\n",
    "    freq_2[i] = sum(freq_2[i], [])\n",
    "print(len(freq_1))\n",
    "print(len(freq_1[0]))"
   ]
  },
  {
   "cell_type": "code",
   "execution_count": 184,
   "metadata": {
    "collapsed": true
   },
   "outputs": [],
   "source": [
    "# we take number of pickups that are happened in last 5 10min intravels\n",
    "number_of_time_stamps = 10\n",
    "\n",
    "# output varaible\n",
    "# it is list of lists\n",
    "# it will contain number of pickups 13094 for each cluster\n",
    "output = []\n",
    "\n",
    "\n",
    "# tsne_lat will contain 13104-10=13094 times lattitude of cluster center for every cluster\n",
    "# Ex: [[cent_lat 13094times],[cent_lat 13094times], [cent_lat 13094times].... 40 lists]\n",
    "# it is list of lists\n",
    "tsne_lat = []\n",
    "\n",
    "\n",
    "# tsne_lon will contain 13104-10=13094 times logitude of cluster center for every cluster\n",
    "# Ex: [[cent_long 13094times],[cent_long 13094times], [cent_long 13094times].... 40 lists]\n",
    "# it is list of lists\n",
    "tsne_lon = []\n",
    "\n",
    "# we will code each day \n",
    "# sunday = 0, monday=1, tue = 2, wed=3, thur=4, fri=5,sat=6\n",
    "# for every cluster we will be adding 13099 values, each value represent to which day of the week that pickup bin belongs to\n",
    "# it is list of lists\n",
    "tsne_weekday = []\n",
    "\n",
    "# its an numpy array, of shape (523960, 10)\n",
    "# each row corresponds to an entry in out data\n",
    "# for the first row we will have [f0,f1,f2,f3,f4,f5,f6,f7...,f9] fi=number of pickups happened in i+1th 10min intravel(bin)\n",
    "# the second row will have [f1,f2,f3,f4,f5,..,f10]\n",
    "# the third row will have [f2,f3,f4,f5,f6,...,f11]\n",
    "# and so on...\n",
    "tsne_feature = []\n",
    "\n",
    "tsne_feature = [0]*number_of_time_stamps\n",
    "for i in range(0,40):\n",
    "    tsne_lat.append([kmeans.cluster_centers_[i][0]]*13094)\n",
    "    tsne_lon.append([kmeans.cluster_centers_[i][1]]*13094)\n",
    "    # jan 1st 2016 is thursday, so we start our day from 4: \"(int(k/144))%7+4\"\n",
    "    # our prediction start from 5th 10min intravel since we need to have number of pickups that are happened in last 5 pickup bins\n",
    "    tsne_weekday.append([int(((int(k/144))%7+4)%7) for k in range(10,4464+4176+4464)])\n",
    "    # regions_cum is a list of lists [[x1,x2,x3..x13104], [x1,x2,x3..x13104], [x1,x2,x3..x13104], [x1,x2,x3..x13104], [x1,x2,x3..x13104], .. 40 lsits]\n",
    "    tsne_feature = np.vstack((tsne_feature, [regions_cum[i][r:r+number_of_time_stamps] for r in range(0,len(regions_cum[i])-number_of_time_stamps)]))\n",
    "    output.append(regions_cum[i][10:])\n",
    "tsne_feature = tsne_feature[1:]"
   ]
  },
  {
   "cell_type": "code",
   "execution_count": 63,
   "metadata": {},
   "outputs": [
    {
     "name": "stdout",
     "output_type": "stream",
     "text": [
      "[[  0  63 217 ... 150 164 152]\n",
      " [ 63 217 189 ... 164 152 131]\n",
      " [217 189 137 ... 152 131 138]\n",
      " ...\n",
      " [109  92 117 ...  82  87  97]\n",
      " [ 92 117  91 ...  87  97 106]\n",
      " [117  91  80 ...  97 106 105]]\n",
      "(523760, 10)\n"
     ]
    }
   ],
   "source": [
    "print(tsne_feature)\n",
    "print(tsne_feature.shape)"
   ]
  },
  {
   "cell_type": "code",
   "execution_count": 64,
   "metadata": {},
   "outputs": [
    {
     "name": "stdout",
     "output_type": "stream",
     "text": [
      "13094 , 40\n",
      "523760\n"
     ]
    }
   ],
   "source": [
    "print(len(tsne_lat[0]),\",\",len(tsne_lat))\n",
    "print(tsne_feature.shape[0])"
   ]
  },
  {
   "cell_type": "code",
   "execution_count": 65,
   "metadata": {},
   "outputs": [
    {
     "data": {
      "text/plain": [
       "True"
      ]
     },
     "execution_count": 65,
     "metadata": {},
     "output_type": "execute_result"
    }
   ],
   "source": [
    "len(tsne_lat[0])*len(tsne_lat) == tsne_feature.shape[0] == len(tsne_weekday)*len(tsne_weekday[0]) == 40*13094 == len(output)*len(output[0])"
   ]
  },
  {
   "cell_type": "code",
   "execution_count": 185,
   "metadata": {
    "collapsed": true
   },
   "outputs": [],
   "source": [
    "# Getting the predictions of exponential moving averages to be used as a feature in cumulative form\n",
    "\n",
    "# upto now we computed 8 features for every data point that starts from 50th min of the day\n",
    "# 1. cluster center lattitude\n",
    "# 2. cluster center longitude\n",
    "# 3. day of the week \n",
    "# 4. f_t_1: number of pickups that are happened previous t-1th 10min intravel\n",
    "# 5. f_t_2: number of pickups that are happened previous t-2th 10min intravel\n",
    "# 6. f_t_3: number of pickups that are happened previous t-3th 10min intravel\n",
    "# 7. f_t_4: number of pickups that are happened previous t-4th 10min intravel\n",
    "# 8. f_t_5: number of pickups that are happened previous t-5th 10min intravel\n",
    "\n",
    "# from the baseline models we said the exponential weighted moving avarage gives us the best error\n",
    "# we will try to add the same exponential weighted moving avarage at t as a feature to our data\n",
    "# exponential weighted moving avarage => p'(t) = alpha*p'(t-1) + (1-alpha)*P(t-1) \n",
    "alpha=0.3\n",
    "\n",
    "# it is a temporary array that store exponential weighted moving avarage for each 10min intravel, \n",
    "# for each cluster it will get reset\n",
    "# for every cluster it contains 13104 values\n",
    "predicted_values=[]\n",
    "\n",
    "# it is similar like tsne_lat\n",
    "# it is list of lists\n",
    "# predict_list is a list of lists [[x5,x6,x7..x13104], [x5,x6,x7..x13104], [x5,x6,x7..x13104], [x5,x6,x7..x13104], [x5,x6,x7..x13104], .. 40 lsits]\n",
    "predict_list = []\n",
    "tsne_flat_exp_avg = []\n",
    "for r in range(0,40):\n",
    "    for i in range(0,13104):\n",
    "        if i==0:\n",
    "            predicted_value= regions_cum[r][0]\n",
    "            predicted_values.append(0)\n",
    "            continue\n",
    "        predicted_values.append(predicted_value)\n",
    "        predicted_value =int((alpha*predicted_value) + (1-alpha)*(regions_cum[r][i]))\n",
    "    predict_list.append(predicted_values[10:])\n",
    "    predicted_values=[]"
   ]
  },
  {
   "cell_type": "code",
   "execution_count": 95,
   "metadata": {},
   "outputs": [
    {
     "name": "stdout",
     "output_type": "stream",
     "text": [
      "size of train data : 9169\n",
      "size of test data : 3929\n"
     ]
    }
   ],
   "source": [
    "# train, test split : 70% 30% split\n",
    "# Before we start predictions using the tree based regression models we take 3 months of 2016 pickup data \n",
    "# and split it such that for every region we have 70% data in train and 30% in test,\n",
    "# ordered date-wise for every region\n",
    "print(\"size of train data :\", int(13099*0.7))\n",
    "print(\"size of test data :\", int(13099*0.3))"
   ]
  },
  {
   "cell_type": "code",
   "execution_count": 186,
   "metadata": {
    "collapsed": true
   },
   "outputs": [],
   "source": [
    "# extracting first 9169 timestamp values i.e 70% of 13099 (total timestamps) for our training data\n",
    "train_features =  [tsne_feature[i*13094:(13094*i+9169)] for i in range(0,40)]\n",
    "# temp = [0]*(12955 - 9068)\n",
    "test_features = [tsne_feature[(13094*(i))+9169:13094*(i+1)] for i in range(0,40)]"
   ]
  },
  {
   "cell_type": "code",
   "execution_count": 100,
   "metadata": {},
   "outputs": [
    {
     "name": "stdout",
     "output_type": "stream",
     "text": [
      "Number of data clusters 40 Number of data points in trian data 9169 Each data point contains 10 features\n",
      "Number of data clusters 40 Number of data points in test data 3925 Each data point contains 10 features\n"
     ]
    }
   ],
   "source": [
    "print(\"Number of data clusters\",len(train_features), \"Number of data points in trian data\", len(train_features[0]), \"Each data point contains\", len(train_features[0][0]),\"features\")\n",
    "print(\"Number of data clusters\",len(train_features), \"Number of data points in test data\", len(test_features[0]), \"Each data point contains\", len(test_features[0][0]),\"features\")"
   ]
  },
  {
   "cell_type": "code",
   "execution_count": 187,
   "metadata": {
    "collapsed": true
   },
   "outputs": [],
   "source": [
    "# extracting first 9169 timestamp values i.e 70% of 13099 (total timestamps) for our training data\n",
    "tsne_train_flat_lat = [i[:9169] for i in tsne_lat]\n",
    "tsne_train_flat_lon = [i[:9169] for i in tsne_lon]\n",
    "tsne_train_flat_weekday = [i[:9169] for i in tsne_weekday]\n",
    "tsne_train_amp1 = [i[:9169] for i in amp_1]\n",
    "tsne_train_amp2 = [i[:9169] for i in amp_2]\n",
    "tsne_train_freq1 = [i[:9169] for i in freq_1]\n",
    "tsne_train_freq2 = [i[:9169] for i in freq_2]\n",
    "tsne_train_flat_output = [i[:9169] for i in output]\n",
    "tsne_train_flat_exp_avg = [i[:9169] for i in predict_list]"
   ]
  },
  {
   "cell_type": "code",
   "execution_count": 188,
   "metadata": {
    "collapsed": true
   },
   "outputs": [],
   "source": [
    "# extracting the rest of the timestamp values i.e 30% of 12956 (total timestamps) for our test data\n",
    "tsne_test_flat_lat = [i[9169:] for i in tsne_lat]\n",
    "tsne_test_flat_lon = [i[9169:] for i in tsne_lon]\n",
    "tsne_test_flat_weekday = [i[9169:] for i in tsne_weekday]\n",
    "tsne_test_amp1 = [i[9169:] for i in amp_1]\n",
    "tsne_test_amp2 = [i[9169:] for i in amp_2]\n",
    "tsne_test_freq1 = [i[9169:] for i in freq_1]\n",
    "tsne_test_freq2 = [i[9169:] for i in freq_2]\n",
    "tsne_test_flat_output = [i[9169:] for i in output]\n",
    "tsne_test_flat_exp_avg = [i[9169:] for i in predict_list]"
   ]
  },
  {
   "cell_type": "code",
   "execution_count": 189,
   "metadata": {
    "collapsed": true
   },
   "outputs": [],
   "source": [
    "# the above contains values in the form of list of lists (i.e. list of values of each region), here we make all of them in one list\n",
    "train_new_features = []\n",
    "for i in range(0,40):\n",
    "    train_new_features.extend(train_features[i])\n",
    "test_new_features = []\n",
    "for i in range(0,40):\n",
    "    test_new_features.extend(test_features[i])"
   ]
  },
  {
   "cell_type": "code",
   "execution_count": 190,
   "metadata": {
    "collapsed": true
   },
   "outputs": [],
   "source": [
    "# converting lists of lists into sinle list i.e flatten\n",
    "# a  = [[1,2,3,4],[4,6,7,8]]\n",
    "# print(sum(a,[]))\n",
    "# [1, 2, 3, 4, 4, 6, 7, 8]\n",
    "\n",
    "tsne_train_lat = sum(tsne_train_flat_lat, [])\n",
    "tsne_train_lon = sum(tsne_train_flat_lon, [])\n",
    "tsne_train_weekday = sum(tsne_train_flat_weekday, [])\n",
    "tsne_train_amp1 = sum(tsne_train_amp1, [])\n",
    "tsne_train_amp2 = sum(tsne_train_amp2, [])\n",
    "tsne_train_freq1 = sum(tsne_train_freq1, [])\n",
    "tsne_train_freq2 = sum(tsne_train_freq2, [])\n",
    "tsne_train_output = sum(tsne_train_flat_output, [])\n",
    "tsne_train_exp_avg = sum(tsne_train_flat_exp_avg,[])"
   ]
  },
  {
   "cell_type": "code",
   "execution_count": 191,
   "metadata": {
    "collapsed": true
   },
   "outputs": [],
   "source": [
    "# converting lists of lists into sinle list i.e flatten\n",
    "# a  = [[1,2,3,4],[4,6,7,8]]\n",
    "# print(sum(a,[]))\n",
    "# [1, 2, 3, 4, 4, 6, 7, 8]\n",
    "\n",
    "tsne_test_lat = sum(tsne_test_flat_lat, [])\n",
    "tsne_test_lon = sum(tsne_test_flat_lon, [])\n",
    "tsne_test_weekday = sum(tsne_test_flat_weekday, [])\n",
    "tsne_test_amp1 = sum(tsne_test_amp1, [])\n",
    "tsne_test_amp2 = sum(tsne_test_amp2, [])\n",
    "tsne_test_freq1 = sum(tsne_test_freq1, [])\n",
    "tsne_test_freq2 = sum(tsne_test_freq2, [])\n",
    "tsne_test_output = sum(tsne_test_flat_output, [])\n",
    "tsne_test_exp_avg = sum(tsne_test_flat_exp_avg,[])"
   ]
  },
  {
   "cell_type": "code",
   "execution_count": 192,
   "metadata": {},
   "outputs": [
    {
     "name": "stdout",
     "output_type": "stream",
     "text": [
      "366760\n",
      "366760\n"
     ]
    }
   ],
   "source": [
    "print(len(tsne_train_lat))\n",
    "print(len(tsne_train_freq1))"
   ]
  },
  {
   "cell_type": "code",
   "execution_count": 193,
   "metadata": {},
   "outputs": [
    {
     "name": "stdout",
     "output_type": "stream",
     "text": [
      "(366760, 18)\n"
     ]
    }
   ],
   "source": [
    "# Preparing the data frame for our train data\n",
    "columns = ['ft_10','ft_9','ft_8','ft_7','ft_6','ft_5','ft_4','ft_3','ft_2','ft_1']\n",
    "df_train = pd.DataFrame(data=train_new_features, columns=columns)\n",
    "df_train['freq_1'] = tsne_train_freq1\n",
    "df_train['freq_2'] = tsne_train_freq2\n",
    "df_train['amp_1'] = tsne_train_amp1\n",
    "df_train['amp_2'] = tsne_train_amp2\n",
    "df_train['lat'] = tsne_train_lat\n",
    "df_train['lon'] = tsne_train_lon\n",
    "df_train['weekday'] = tsne_train_weekday\n",
    "df_train['exp_avg'] = tsne_train_exp_avg\n",
    "\n",
    "print(df_train.shape)"
   ]
  },
  {
   "cell_type": "code",
   "execution_count": 194,
   "metadata": {},
   "outputs": [
    {
     "name": "stdout",
     "output_type": "stream",
     "text": [
      "(157000, 18)\n"
     ]
    }
   ],
   "source": [
    "# Preparing the data frame for our train data\n",
    "df_test = pd.DataFrame(data=test_new_features, columns=columns)\n",
    "df_test['freq_1'] = tsne_test_freq1\n",
    "df_test['freq_2'] = tsne_test_freq2\n",
    "df_test['amp_1'] = tsne_test_amp1\n",
    "df_test['amp_2'] = tsne_test_amp2\n",
    "df_test['lat'] = tsne_test_lat\n",
    "df_test['lon'] = tsne_test_lon\n",
    "df_test['weekday'] = tsne_test_weekday\n",
    "df_test['exp_avg'] =tsne_test_exp_avg\n",
    "print(df_test.shape)"
   ]
  },
  {
   "cell_type": "code",
   "execution_count": 195,
   "metadata": {},
   "outputs": [
    {
     "data": {
      "text/html": [
       "<div>\n",
       "<style scoped>\n",
       "    .dataframe tbody tr th:only-of-type {\n",
       "        vertical-align: middle;\n",
       "    }\n",
       "\n",
       "    .dataframe tbody tr th {\n",
       "        vertical-align: top;\n",
       "    }\n",
       "\n",
       "    .dataframe thead th {\n",
       "        text-align: right;\n",
       "    }\n",
       "</style>\n",
       "<table border=\"1\" class=\"dataframe\">\n",
       "  <thead>\n",
       "    <tr style=\"text-align: right;\">\n",
       "      <th></th>\n",
       "      <th>ft_10</th>\n",
       "      <th>ft_9</th>\n",
       "      <th>ft_8</th>\n",
       "      <th>ft_7</th>\n",
       "      <th>ft_6</th>\n",
       "      <th>ft_5</th>\n",
       "      <th>ft_4</th>\n",
       "      <th>ft_3</th>\n",
       "      <th>ft_2</th>\n",
       "      <th>ft_1</th>\n",
       "      <th>freq_1</th>\n",
       "      <th>freq_2</th>\n",
       "      <th>amp_1</th>\n",
       "      <th>amp_2</th>\n",
       "      <th>lat</th>\n",
       "      <th>lon</th>\n",
       "      <th>weekday</th>\n",
       "      <th>exp_avg</th>\n",
       "    </tr>\n",
       "  </thead>\n",
       "  <tbody>\n",
       "    <tr>\n",
       "      <th>0</th>\n",
       "      <td>118</td>\n",
       "      <td>106</td>\n",
       "      <td>104</td>\n",
       "      <td>93</td>\n",
       "      <td>102</td>\n",
       "      <td>101</td>\n",
       "      <td>120</td>\n",
       "      <td>131</td>\n",
       "      <td>164</td>\n",
       "      <td>154</td>\n",
       "      <td>0.000448</td>\n",
       "      <td>0.000896</td>\n",
       "      <td>123762.512777</td>\n",
       "      <td>70368.355736</td>\n",
       "      <td>40.776228</td>\n",
       "      <td>-73.982119</td>\n",
       "      <td>4</td>\n",
       "      <td>153</td>\n",
       "    </tr>\n",
       "    <tr>\n",
       "      <th>1</th>\n",
       "      <td>106</td>\n",
       "      <td>104</td>\n",
       "      <td>93</td>\n",
       "      <td>102</td>\n",
       "      <td>101</td>\n",
       "      <td>120</td>\n",
       "      <td>131</td>\n",
       "      <td>164</td>\n",
       "      <td>154</td>\n",
       "      <td>133</td>\n",
       "      <td>0.000448</td>\n",
       "      <td>0.000896</td>\n",
       "      <td>123762.512777</td>\n",
       "      <td>70368.355736</td>\n",
       "      <td>40.776228</td>\n",
       "      <td>-73.982119</td>\n",
       "      <td>4</td>\n",
       "      <td>139</td>\n",
       "    </tr>\n",
       "    <tr>\n",
       "      <th>2</th>\n",
       "      <td>104</td>\n",
       "      <td>93</td>\n",
       "      <td>102</td>\n",
       "      <td>101</td>\n",
       "      <td>120</td>\n",
       "      <td>131</td>\n",
       "      <td>164</td>\n",
       "      <td>154</td>\n",
       "      <td>133</td>\n",
       "      <td>148</td>\n",
       "      <td>0.000448</td>\n",
       "      <td>0.000896</td>\n",
       "      <td>123762.512777</td>\n",
       "      <td>70368.355736</td>\n",
       "      <td>40.776228</td>\n",
       "      <td>-73.982119</td>\n",
       "      <td>4</td>\n",
       "      <td>145</td>\n",
       "    </tr>\n",
       "    <tr>\n",
       "      <th>3</th>\n",
       "      <td>93</td>\n",
       "      <td>102</td>\n",
       "      <td>101</td>\n",
       "      <td>120</td>\n",
       "      <td>131</td>\n",
       "      <td>164</td>\n",
       "      <td>154</td>\n",
       "      <td>133</td>\n",
       "      <td>148</td>\n",
       "      <td>172</td>\n",
       "      <td>0.000448</td>\n",
       "      <td>0.000896</td>\n",
       "      <td>123762.512777</td>\n",
       "      <td>70368.355736</td>\n",
       "      <td>40.776228</td>\n",
       "      <td>-73.982119</td>\n",
       "      <td>4</td>\n",
       "      <td>163</td>\n",
       "    </tr>\n",
       "    <tr>\n",
       "      <th>4</th>\n",
       "      <td>102</td>\n",
       "      <td>101</td>\n",
       "      <td>120</td>\n",
       "      <td>131</td>\n",
       "      <td>164</td>\n",
       "      <td>154</td>\n",
       "      <td>133</td>\n",
       "      <td>148</td>\n",
       "      <td>172</td>\n",
       "      <td>153</td>\n",
       "      <td>0.000448</td>\n",
       "      <td>0.000896</td>\n",
       "      <td>123762.512777</td>\n",
       "      <td>70368.355736</td>\n",
       "      <td>40.776228</td>\n",
       "      <td>-73.982119</td>\n",
       "      <td>4</td>\n",
       "      <td>156</td>\n",
       "    </tr>\n",
       "  </tbody>\n",
       "</table>\n",
       "</div>"
      ],
      "text/plain": [
       "   ft_10  ft_9  ft_8  ft_7  ft_6  ft_5  ft_4  ft_3  ft_2  ft_1    freq_1  \\\n",
       "0    118   106   104    93   102   101   120   131   164   154  0.000448   \n",
       "1    106   104    93   102   101   120   131   164   154   133  0.000448   \n",
       "2    104    93   102   101   120   131   164   154   133   148  0.000448   \n",
       "3     93   102   101   120   131   164   154   133   148   172  0.000448   \n",
       "4    102   101   120   131   164   154   133   148   172   153  0.000448   \n",
       "\n",
       "     freq_2          amp_1         amp_2        lat        lon  weekday  \\\n",
       "0  0.000896  123762.512777  70368.355736  40.776228 -73.982119        4   \n",
       "1  0.000896  123762.512777  70368.355736  40.776228 -73.982119        4   \n",
       "2  0.000896  123762.512777  70368.355736  40.776228 -73.982119        4   \n",
       "3  0.000896  123762.512777  70368.355736  40.776228 -73.982119        4   \n",
       "4  0.000896  123762.512777  70368.355736  40.776228 -73.982119        4   \n",
       "\n",
       "   exp_avg  \n",
       "0      153  \n",
       "1      139  \n",
       "2      145  \n",
       "3      163  \n",
       "4      156  "
      ]
     },
     "execution_count": 195,
     "metadata": {},
     "output_type": "execute_result"
    }
   ],
   "source": [
    "df_test.head()"
   ]
  },
  {
   "cell_type": "code",
   "execution_count": 196,
   "metadata": {
    "collapsed": true
   },
   "outputs": [],
   "source": [
    "tsne_train_out = pd.DataFrame(tsne_train_output)\n",
    "tsne_test_out = pd.DataFrame(tsne_test_output)\n",
    "df_train.to_csv('X_train_new3.csv', sep = ',')\n",
    "df_test.to_csv('X_test_new3.csv',sep = ',')\n",
    "tsne_train_out.to_csv('Y_train_new3.csv',sep = ',')\n",
    "tsne_test_out.to_csv('Y_test_new3.csv',sep = ',')"
   ]
  },
  {
   "cell_type": "code",
   "execution_count": 197,
   "metadata": {},
   "outputs": [
    {
     "name": "stdout",
     "output_type": "stream",
     "text": [
      "   ft_5  ft_4  ft_3  ft_2  ft_1    freq_1    freq_2          amp_1  \\\n",
      "0   135   129   150   164   152  0.000448  0.000896  121826.780627   \n",
      "1   129   150   164   152   131  0.000448  0.000896  121826.780627   \n",
      "2   150   164   152   131   138  0.000448  0.000896  121826.780627   \n",
      "3   164   152   131   138   147  0.000448  0.000896  121826.780627   \n",
      "4   152   131   138   147   127  0.000448  0.000896  121826.780627   \n",
      "\n",
      "          amp_2        lat        lon  weekday  exp_avg  \n",
      "0  52806.640573  40.776228 -73.982119        4      153  \n",
      "1  52806.640573  40.776228 -73.982119        4      137  \n",
      "2  52806.640573  40.776228 -73.982119        4      137  \n",
      "3  52806.640573  40.776228 -73.982119        4      144  \n",
      "4  52806.640573  40.776228 -73.982119        4      132  \n"
     ]
    }
   ],
   "source": [
    "df_train.drop([df_train.columns[0],df_train.columns[1],df_train.columns[2],df_train.columns[3],df_train.columns[4]],axis = 1,inplace = True)\n",
    "df_test.drop([df_test.columns[0],df_test.columns[1],df_test.columns[2],df_test.columns[3],df_test.columns[4]],axis = 1,inplace = True)\n",
    "print(df_train.head())"
   ]
  },
  {
   "cell_type": "markdown",
   "metadata": {},
   "source": [
    "## Random Forest"
   ]
  },
  {
   "cell_type": "code",
   "execution_count": 198,
   "metadata": {},
   "outputs": [
    {
     "data": {
      "text/plain": [
       "RandomForestRegressor(bootstrap=True, criterion='mse', max_depth=None,\n",
       "           max_features='sqrt', max_leaf_nodes=None,\n",
       "           min_impurity_decrease=0.0, min_impurity_split=None,\n",
       "           min_samples_leaf=4, min_samples_split=3,\n",
       "           min_weight_fraction_leaf=0.0, n_estimators=40, n_jobs=-1,\n",
       "           oob_score=False, random_state=None, verbose=0, warm_start=False)"
      ]
     },
     "execution_count": 198,
     "metadata": {},
     "output_type": "execute_result"
    }
   ],
   "source": [
    "regr1 = RandomForestRegressor(max_features='sqrt',min_samples_leaf=4,min_samples_split=3,n_estimators=40, n_jobs=-1)\n",
    "regr1.fit(df_train, tsne_train_output)"
   ]
  },
  {
   "cell_type": "code",
   "execution_count": 199,
   "metadata": {
    "collapsed": true
   },
   "outputs": [],
   "source": [
    "# Predicting on test data using our trained random forest model \n",
    "\n",
    "# the models regr1 is already hyper parameter tuned\n",
    "# the parameters that we got above are found using grid search\n",
    "\n",
    "y_pred = regr1.predict(df_test)\n",
    "rndf_test_predictions = [round(value) for value in y_pred]\n",
    "y_pred = regr1.predict(df_train)\n",
    "rndf_train_predictions = [round(value) for value in y_pred]"
   ]
  },
  {
   "cell_type": "code",
   "execution_count": 200,
   "metadata": {},
   "outputs": [
    {
     "name": "stdout",
     "output_type": "stream",
     "text": [
      "Index(['ft_5', 'ft_4', 'ft_3', 'ft_2', 'ft_1', 'freq_1', 'freq_2', 'amp_1',\n",
      "       'amp_2', 'lat', 'lon', 'weekday', 'exp_avg'],\n",
      "      dtype='object')\n",
      "[0.07424502 0.08711719 0.17215115 0.21533768 0.1916566  0.00025927\n",
      " 0.00026095 0.01863554 0.01414222 0.00327041 0.00150914 0.00145266\n",
      " 0.21996217]\n"
     ]
    }
   ],
   "source": [
    "#feature importances based on analysis using random forest\n",
    "print (df_train.columns)\n",
    "print (regr1.feature_importances_)"
   ]
  },
  {
   "cell_type": "code",
   "execution_count": 201,
   "metadata": {},
   "outputs": [
    {
     "name": "stdout",
     "output_type": "stream",
     "text": [
      "8.365808917197452\n",
      "10445989\n",
      "157000\n"
     ]
    }
   ],
   "source": [
    "print(mean_absolute_error(tsne_test_output, rndf_test_predictions))\n",
    "print(sum(tsne_test_output))\n",
    "print(len(tsne_test_output))"
   ]
  },
  {
   "cell_type": "code",
   "execution_count": 166,
   "metadata": {
    "collapsed": true
   },
   "outputs": [],
   "source": [
    "train_mape=[]\n",
    "test_mape=[]\n",
    "\n",
    "train_mape.append((mean_absolute_error(tsne_train_output,df_train['ft_1'].values))/(sum(tsne_train_output)/len(tsne_train_output)))\n",
    "train_mape.append((mean_absolute_error(tsne_train_output,df_train['exp_avg'].values))/(sum(tsne_train_output)/len(tsne_train_output)))\n",
    "train_mape.append((mean_absolute_error(tsne_train_output,rndf_train_predictions))/(sum(tsne_train_output)/len(tsne_train_output)))\n",
    "\n",
    "test_mape.append((mean_absolute_error(tsne_test_output, df_test['ft_1'].values))/(sum(tsne_test_output)/len(tsne_test_output)))\n",
    "test_mape.append((mean_absolute_error(tsne_test_output, df_test['exp_avg'].values))/(sum(tsne_test_output)/len(tsne_test_output)))\n",
    "test_mape.append((mean_absolute_error(tsne_test_output, rndf_test_predictions))/(sum(tsne_test_output)/len(tsne_test_output)))"
   ]
  },
  {
   "cell_type": "code",
   "execution_count": 167,
   "metadata": {},
   "outputs": [
    {
     "name": "stdout",
     "output_type": "stream",
     "text": [
      "Error Metric Matrix (Tree Based Regression Methods) -  MAPE\n",
      "--------------------------------------------------------------------------------------------------------\n",
      "Baseline Model -                             Train:  0.14008057196824064       Test:  0.136559592394746\n",
      "Exponential Averages Forecasting -           Train:  0.13291801284208646       Test:  0.1293682197061475\n",
      "Random Forest Regression -                   Train:  0.09194699616618707      Test:  0.12591253925310472\n"
     ]
    }
   ],
   "source": [
    "print (\"Error Metric Matrix (Tree Based Regression Methods) -  MAPE\")\n",
    "print (\"--------------------------------------------------------------------------------------------------------\")\n",
    "print (\"Baseline Model -                             Train: \",train_mape[0],\"      Test: \",test_mape[0])\n",
    "print (\"Exponential Averages Forecasting -           Train: \",train_mape[1],\"      Test: \",test_mape[1])\n",
    "print (\"Random Forest Regression -                   Train: \",train_mape[2],\"     Test: \",test_mape[2])"
   ]
  },
  {
   "cell_type": "code",
   "execution_count": null,
   "metadata": {
    "collapsed": true
   },
   "outputs": [],
   "source": []
  }
 ],
 "metadata": {
  "kernelspec": {
   "display_name": "Python 2",
   "language": "python",
   "name": "python2"
  },
  "language_info": {
   "codemirror_mode": {
    "name": "ipython",
    "version": 2
   },
   "file_extension": ".py",
   "mimetype": "text/x-python",
   "name": "python",
   "nbconvert_exporter": "python",
   "pygments_lexer": "ipython2",
   "version": "2.7.16"
  }
 },
 "nbformat": 4,
 "nbformat_minor": 2
}
